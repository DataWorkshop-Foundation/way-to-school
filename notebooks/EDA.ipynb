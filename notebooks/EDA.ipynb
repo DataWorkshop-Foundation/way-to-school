{
 "cells": [
  {
   "cell_type": "markdown",
   "metadata": {},
   "source": [
    "## EDA dla rejestru Szkół i placówek aktywnych w Polsce na dzień: 10.01.2022r \n",
    "1. Baza aktywnych szkół i placówek została pobrana z Rejestru Szkół i placówek oświatowych: https://rspo.gov.pl/\n",
    "2. Dane dotyczące powierzchni i ludności w przekroju terytorialnym - GUS: https://stat.gov.pl/obszary-tematyczne/ludnosc/"
   ]
  },
  {
   "cell_type": "code",
   "execution_count": 1,
   "metadata": {},
   "outputs": [],
   "source": [
    "# ładuje biblioteki\n",
    "import pandas as pd\n",
    "import datetime\n",
    "from datetime import date\n",
    "import numpy as np\n",
    "import seaborn as sns\n",
    "import matplotlib.pyplot as plt\n",
    "\n",
    "sns.set(rc={\"figure.figsize\": (11.7, 8.27)})\n",
    "\n",
    "%matplotlib inline"
   ]
  },
  {
   "cell_type": "code",
   "execution_count": 2,
   "metadata": {},
   "outputs": [],
   "source": [
    "# wczytuje dane z pliku school_prep.csv\n",
    "df = pd.read_csv(\"../../way-to-school-date/school_prep.csv\")"
   ]
  },
  {
   "cell_type": "code",
   "execution_count": 3,
   "metadata": {},
   "outputs": [
    {
     "data": {
      "text/html": [
       "<div>\n",
       "<style scoped>\n",
       "    .dataframe tbody tr th:only-of-type {\n",
       "        vertical-align: middle;\n",
       "    }\n",
       "\n",
       "    .dataframe tbody tr th {\n",
       "        vertical-align: top;\n",
       "    }\n",
       "\n",
       "    .dataframe thead th {\n",
       "        text-align: right;\n",
       "    }\n",
       "</style>\n",
       "<table border=\"1\" class=\"dataframe\">\n",
       "  <thead>\n",
       "    <tr style=\"text-align: right;\">\n",
       "      <th></th>\n",
       "      <th>numer_rspo</th>\n",
       "      <th>regon_podmiotu</th>\n",
       "      <th>nip_podmiotu</th>\n",
       "      <th>typ</th>\n",
       "      <th>nazwa</th>\n",
       "      <th>kod_terytorialny_wojewodztwo</th>\n",
       "      <th>kod_terytorialny_powiat</th>\n",
       "      <th>kod_terytorialny_gmina</th>\n",
       "      <th>kod_terytorialny_miejscowosc</th>\n",
       "      <th>kod_terytorialny_ulica</th>\n",
       "      <th>...</th>\n",
       "      <th>rank_ha_dist</th>\n",
       "      <th>rank_population_dist</th>\n",
       "      <th>identyfikator</th>\n",
       "      <th>gminy_nazwa</th>\n",
       "      <th>area_ha</th>\n",
       "      <th>area_km</th>\n",
       "      <th>population_total</th>\n",
       "      <th>population_per_1km</th>\n",
       "      <th>rank_ha</th>\n",
       "      <th>rank_population</th>\n",
       "    </tr>\n",
       "  </thead>\n",
       "  <tbody>\n",
       "    <tr>\n",
       "      <th>0</th>\n",
       "      <td>38801</td>\n",
       "      <td>650689</td>\n",
       "      <td>6.121863e+09</td>\n",
       "      <td>Szkoła podstawowa</td>\n",
       "      <td>SZKOŁA PODSTAWOWA NR 2 W BOLESŁAWCU</td>\n",
       "      <td>2</td>\n",
       "      <td>201</td>\n",
       "      <td>201011</td>\n",
       "      <td>935989</td>\n",
       "      <td>20291.0</td>\n",
       "      <td>...</td>\n",
       "      <td>64</td>\n",
       "      <td>97</td>\n",
       "      <td>201011.0</td>\n",
       "      <td>Bolesławiec....................................</td>\n",
       "      <td>2357.0</td>\n",
       "      <td>24.0</td>\n",
       "      <td>38486.0</td>\n",
       "      <td>1633.0</td>\n",
       "      <td>2207</td>\n",
       "      <td>133</td>\n",
       "    </tr>\n",
       "    <tr>\n",
       "      <th>1</th>\n",
       "      <td>40746</td>\n",
       "      <td>21270766</td>\n",
       "      <td>6.121833e+09</td>\n",
       "      <td>Przedszkole</td>\n",
       "      <td>MIEJSKIE PRZEDSZKOLE PUBLICZNE NR 7 Z ODDZIAŁA...</td>\n",
       "      <td>2</td>\n",
       "      <td>201</td>\n",
       "      <td>201011</td>\n",
       "      <td>935989</td>\n",
       "      <td>5956.0</td>\n",
       "      <td>...</td>\n",
       "      <td>64</td>\n",
       "      <td>97</td>\n",
       "      <td>201011.0</td>\n",
       "      <td>Bolesławiec....................................</td>\n",
       "      <td>2357.0</td>\n",
       "      <td>24.0</td>\n",
       "      <td>38486.0</td>\n",
       "      <td>1633.0</td>\n",
       "      <td>2207</td>\n",
       "      <td>133</td>\n",
       "    </tr>\n",
       "    <tr>\n",
       "      <th>2</th>\n",
       "      <td>17550</td>\n",
       "      <td>27192</td>\n",
       "      <td>6.121125e+09</td>\n",
       "      <td>Zespół szkół i placówek oświatowych</td>\n",
       "      <td>ZESPÓŁ SZKÓŁ ELEKTRONICZNYCH IM. I. DOMEYKI W ...</td>\n",
       "      <td>2</td>\n",
       "      <td>201</td>\n",
       "      <td>201011</td>\n",
       "      <td>935989</td>\n",
       "      <td>23260.0</td>\n",
       "      <td>...</td>\n",
       "      <td>64</td>\n",
       "      <td>97</td>\n",
       "      <td>201011.0</td>\n",
       "      <td>Bolesławiec....................................</td>\n",
       "      <td>2357.0</td>\n",
       "      <td>24.0</td>\n",
       "      <td>38486.0</td>\n",
       "      <td>1633.0</td>\n",
       "      <td>2207</td>\n",
       "      <td>133</td>\n",
       "    </tr>\n",
       "  </tbody>\n",
       "</table>\n",
       "<p>3 rows × 71 columns</p>\n",
       "</div>"
      ],
      "text/plain": [
       "   numer_rspo  regon_podmiotu  nip_podmiotu  \\\n",
       "0       38801          650689  6.121863e+09   \n",
       "1       40746        21270766  6.121833e+09   \n",
       "2       17550           27192  6.121125e+09   \n",
       "\n",
       "                                   typ  \\\n",
       "0                    Szkoła podstawowa   \n",
       "1                          Przedszkole   \n",
       "2  Zespół szkół i placówek oświatowych   \n",
       "\n",
       "                                               nazwa  \\\n",
       "0                SZKOŁA PODSTAWOWA NR 2 W BOLESŁAWCU   \n",
       "1  MIEJSKIE PRZEDSZKOLE PUBLICZNE NR 7 Z ODDZIAŁA...   \n",
       "2  ZESPÓŁ SZKÓŁ ELEKTRONICZNYCH IM. I. DOMEYKI W ...   \n",
       "\n",
       "   kod_terytorialny_wojewodztwo  kod_terytorialny_powiat  \\\n",
       "0                             2                      201   \n",
       "1                             2                      201   \n",
       "2                             2                      201   \n",
       "\n",
       "   kod_terytorialny_gmina  kod_terytorialny_miejscowosc  \\\n",
       "0                  201011                        935989   \n",
       "1                  201011                        935989   \n",
       "2                  201011                        935989   \n",
       "\n",
       "   kod_terytorialny_ulica  ... rank_ha_dist rank_population_dist  \\\n",
       "0                 20291.0  ...           64                   97   \n",
       "1                  5956.0  ...           64                   97   \n",
       "2                 23260.0  ...           64                   97   \n",
       "\n",
       "  identyfikator                                        gminy_nazwa area_ha  \\\n",
       "0      201011.0    Bolesławiec....................................  2357.0   \n",
       "1      201011.0    Bolesławiec....................................  2357.0   \n",
       "2      201011.0    Bolesławiec....................................  2357.0   \n",
       "\n",
       "  area_km population_total population_per_1km rank_ha rank_population  \n",
       "0    24.0          38486.0             1633.0    2207             133  \n",
       "1    24.0          38486.0             1633.0    2207             133  \n",
       "2    24.0          38486.0             1633.0    2207             133  \n",
       "\n",
       "[3 rows x 71 columns]"
      ]
     },
     "execution_count": 3,
     "metadata": {},
     "output_type": "execute_result"
    }
   ],
   "source": [
    "df.head(3)"
   ]
  },
  {
   "cell_type": "code",
   "execution_count": 4,
   "metadata": {},
   "outputs": [
    {
     "data": {
      "text/plain": [
       "(55730, 71)"
      ]
     },
     "execution_count": 4,
     "metadata": {},
     "output_type": "execute_result"
    }
   ],
   "source": [
    "df.shape"
   ]
  },
  {
   "cell_type": "code",
   "execution_count": 5,
   "metadata": {},
   "outputs": [
    {
     "name": "stdout",
     "output_type": "stream",
     "text": [
      "Zbiór zawiera 55730 szkół i pracówek oraz 71 zmiennych\n"
     ]
    }
   ],
   "source": [
    "print(\"Zbiór zawiera {} szkół i pracówek oraz {} zmiennych\".format(df.shape[0], df.shape[1]))"
   ]
  },
  {
   "cell_type": "code",
   "execution_count": 6,
   "metadata": {},
   "outputs": [
    {
     "name": "stdout",
     "output_type": "stream",
     "text": [
      "Zbior zawiera 0 duplikatow.\n"
     ]
    }
   ],
   "source": [
    "print(\"Zbior zawiera {} duplikatow.\".format(df.duplicated().sum()))"
   ]
  },
  {
   "cell_type": "code",
   "execution_count": 7,
   "metadata": {},
   "outputs": [
    {
     "name": "stdout",
     "output_type": "stream",
     "text": [
      "Zbior zawiera 12 zmiennych typu float\n"
     ]
    }
   ],
   "source": [
    "print(\"Zbior zawiera {} zmiennych typu float\".format(len(df.select_dtypes(\"float64\").columns)))"
   ]
  },
  {
   "cell_type": "code",
   "execution_count": 8,
   "metadata": {},
   "outputs": [
    {
     "name": "stdout",
     "output_type": "stream",
     "text": [
      "Zbior zawiera 20 zmiennych typu int\n"
     ]
    }
   ],
   "source": [
    "print(\"Zbior zawiera {} zmiennych typu int\".format(len(df.select_dtypes(\"int64\").columns)))"
   ]
  },
  {
   "cell_type": "code",
   "execution_count": 10,
   "metadata": {},
   "outputs": [
    {
     "name": "stdout",
     "output_type": "stream",
     "text": [
      "Zbior zawiera 39 zmiennych typu object\n"
     ]
    }
   ],
   "source": [
    "print(\"Zbior zawiera {} zmiennych typu object\".format(len(df.select_dtypes(\"object\").columns)))"
   ]
  },
  {
   "cell_type": "code",
   "execution_count": 9,
   "metadata": {},
   "outputs": [
    {
     "name": "stdout",
     "output_type": "stream",
     "text": [
      "<class 'pandas.core.frame.DataFrame'>\n",
      "RangeIndex: 55730 entries, 0 to 55729\n",
      "Data columns (total 71 columns):\n",
      " #   Column                           Non-Null Count  Dtype  \n",
      "---  ------                           --------------  -----  \n",
      " 0   numer_rspo                       55730 non-null  int64  \n",
      " 1   regon_podmiotu                   55730 non-null  int64  \n",
      " 2   nip_podmiotu                     28564 non-null  float64\n",
      " 3   typ                              55730 non-null  object \n",
      " 4   nazwa                            55730 non-null  object \n",
      " 5   kod_terytorialny_wojewodztwo     55730 non-null  int64  \n",
      " 6   kod_terytorialny_powiat          55730 non-null  int64  \n",
      " 7   kod_terytorialny_gmina           55730 non-null  int64  \n",
      " 8   kod_terytorialny_miejscowosc     55730 non-null  int64  \n",
      " 9   kod_terytorialny_ulica           46086 non-null  float64\n",
      " 10  wojewodztwo                      55730 non-null  object \n",
      " 11  powiat                           55730 non-null  object \n",
      " 12  gmina                            55730 non-null  object \n",
      " 13  miejscowosc                      55730 non-null  object \n",
      " 14  rodzaj_miejscowosci              55730 non-null  object \n",
      " 15  ulica                            46086 non-null  object \n",
      " 16  numer_budynku                    55730 non-null  object \n",
      " 17  numer_lokalu                     2639 non-null   object \n",
      " 18  kod_pocztowy                     55730 non-null  object \n",
      " 19  poczta                           55730 non-null  object \n",
      " 20  telefon                          53756 non-null  object \n",
      " 21  faks                             24383 non-null  object \n",
      " 22  e-mail                           53094 non-null  object \n",
      " 23  strona_www                       55730 non-null  object \n",
      " 24  publicznosc_status               55730 non-null  object \n",
      " 25  kategoria_uczniow                55730 non-null  object \n",
      " 26  specyfika_placowki               55730 non-null  object \n",
      " 27  imie_i_nazwisko_dyrektora        34878 non-null  object \n",
      " 28  data_zalozenia                   55730 non-null  object \n",
      " 29  data_rozpoczecia_dzialalnosci    55502 non-null  object \n",
      " 30  data_likwidacji                  0 non-null      float64\n",
      " 31  typ_organu_prowadzacego          55730 non-null  object \n",
      " 32  nazwa_organu_prowadzacego        55730 non-null  object \n",
      " 33  regon_organu_prowadzacego        47264 non-null  float64\n",
      " 34  nip_organu_prowadzacego          10630 non-null  float64\n",
      " 35  wojewodztwo_organu_prowadzacego  55727 non-null  object \n",
      " 36  powiat_organu_prowadzacego       55727 non-null  object \n",
      " 37  gmina_organu_prowadzacego        55727 non-null  object \n",
      " 38  miejsce_w_strukturze             55730 non-null  object \n",
      " 39  rspo_podmiotu_nadrzednego        16059 non-null  float64\n",
      " 40  typ_podmiotu_nadrzednego         16059 non-null  object \n",
      " 41  nazwa_podmiotu_nadrzednego       16059 non-null  object \n",
      " 42  liczba_uczniow                   50170 non-null  float64\n",
      " 43  tereny_sportowe                  11387 non-null  object \n",
      " 44  jezyki_nauczane                  37043 non-null  object \n",
      " 45  gmina_nazwa                      55730 non-null  object \n",
      " 46  gmina_typ                        55730 non-null  object \n",
      " 47  identyfikator_prov               55730 non-null  int64  \n",
      " 48  wojewodztwo_nazwa                55730 non-null  object \n",
      " 49  area_ha_prov                     55730 non-null  int64  \n",
      " 50  area_km_prov                     55730 non-null  int64  \n",
      " 51  population_total_prov            55730 non-null  int64  \n",
      " 52  population_per_1km_prov          55730 non-null  int64  \n",
      " 53  rank_ha_prov                     55730 non-null  int64  \n",
      " 54  rank_population_prov             55730 non-null  int64  \n",
      " 55  identyfikator_dist               55730 non-null  int64  \n",
      " 56  powiaty_nazwa                    55730 non-null  object \n",
      " 57  area_ha_dist                     55730 non-null  int64  \n",
      " 58  area_km_dist                     55730 non-null  int64  \n",
      " 59  population_total_dist            55730 non-null  int64  \n",
      " 60  population_per_1km_dist          55730 non-null  int64  \n",
      " 61  rank_ha_dist                     55730 non-null  int64  \n",
      " 62  rank_population_dist             55730 non-null  int64  \n",
      " 63  identyfikator                    51835 non-null  float64\n",
      " 64  gminy_nazwa                      51835 non-null  object \n",
      " 65  area_ha                          51835 non-null  float64\n",
      " 66  area_km                          51835 non-null  float64\n",
      " 67  population_total                 51835 non-null  float64\n",
      " 68  population_per_1km               51835 non-null  float64\n",
      " 69  rank_ha                          49228 non-null  object \n",
      " 70  rank_population                  49228 non-null  object \n",
      "dtypes: float64(12), int64(20), object(39)\n",
      "memory usage: 30.2+ MB\n"
     ]
    }
   ],
   "source": [
    "df.info()"
   ]
  },
  {
   "cell_type": "markdown",
   "metadata": {},
   "source": [
    "## Brakujące dane"
   ]
  },
  {
   "cell_type": "code",
   "execution_count": 11,
   "metadata": {},
   "outputs": [
    {
     "name": "stdout",
     "output_type": "stream",
     "text": [
      "0.05% obserwacji zawiera braki w danych.\n"
     ]
    }
   ],
   "source": [
    "print(str(round(df.isnull().any(axis=0).sum() / df.shape[0] * 100, 2)) + \"% obserwacji zawiera braki w danych.\")"
   ]
  },
  {
   "cell_type": "code",
   "execution_count": 13,
   "metadata": {},
   "outputs": [
    {
     "data": {
      "text/html": [
       "<div>\n",
       "<style scoped>\n",
       "    .dataframe tbody tr th:only-of-type {\n",
       "        vertical-align: middle;\n",
       "    }\n",
       "\n",
       "    .dataframe tbody tr th {\n",
       "        vertical-align: top;\n",
       "    }\n",
       "\n",
       "    .dataframe thead th {\n",
       "        text-align: right;\n",
       "    }\n",
       "</style>\n",
       "<table border=\"1\" class=\"dataframe\">\n",
       "  <thead>\n",
       "    <tr style=\"text-align: right;\">\n",
       "      <th></th>\n",
       "      <th>Nulls</th>\n",
       "      <th>Num_of_nulls [qty]</th>\n",
       "      <th>Num_of_nulls [%]</th>\n",
       "    </tr>\n",
       "  </thead>\n",
       "  <tbody>\n",
       "    <tr>\n",
       "      <th>data_likwidacji</th>\n",
       "      <td>True</td>\n",
       "      <td>55730</td>\n",
       "      <td>100.00</td>\n",
       "    </tr>\n",
       "    <tr>\n",
       "      <th>numer_lokalu</th>\n",
       "      <td>True</td>\n",
       "      <td>53091</td>\n",
       "      <td>95.26</td>\n",
       "    </tr>\n",
       "    <tr>\n",
       "      <th>nip_organu_prowadzacego</th>\n",
       "      <td>True</td>\n",
       "      <td>45100</td>\n",
       "      <td>80.93</td>\n",
       "    </tr>\n",
       "    <tr>\n",
       "      <th>tereny_sportowe</th>\n",
       "      <td>True</td>\n",
       "      <td>44343</td>\n",
       "      <td>79.57</td>\n",
       "    </tr>\n",
       "    <tr>\n",
       "      <th>rspo_podmiotu_nadrzednego</th>\n",
       "      <td>True</td>\n",
       "      <td>39671</td>\n",
       "      <td>71.18</td>\n",
       "    </tr>\n",
       "    <tr>\n",
       "      <th>nazwa_podmiotu_nadrzednego</th>\n",
       "      <td>True</td>\n",
       "      <td>39671</td>\n",
       "      <td>71.18</td>\n",
       "    </tr>\n",
       "    <tr>\n",
       "      <th>typ_podmiotu_nadrzednego</th>\n",
       "      <td>True</td>\n",
       "      <td>39671</td>\n",
       "      <td>71.18</td>\n",
       "    </tr>\n",
       "    <tr>\n",
       "      <th>faks</th>\n",
       "      <td>True</td>\n",
       "      <td>31347</td>\n",
       "      <td>56.25</td>\n",
       "    </tr>\n",
       "    <tr>\n",
       "      <th>nip_podmiotu</th>\n",
       "      <td>True</td>\n",
       "      <td>27166</td>\n",
       "      <td>48.75</td>\n",
       "    </tr>\n",
       "    <tr>\n",
       "      <th>imie_i_nazwisko_dyrektora</th>\n",
       "      <td>True</td>\n",
       "      <td>20852</td>\n",
       "      <td>37.42</td>\n",
       "    </tr>\n",
       "    <tr>\n",
       "      <th>jezyki_nauczane</th>\n",
       "      <td>True</td>\n",
       "      <td>18687</td>\n",
       "      <td>33.53</td>\n",
       "    </tr>\n",
       "    <tr>\n",
       "      <th>ulica</th>\n",
       "      <td>True</td>\n",
       "      <td>9644</td>\n",
       "      <td>17.30</td>\n",
       "    </tr>\n",
       "    <tr>\n",
       "      <th>kod_terytorialny_ulica</th>\n",
       "      <td>True</td>\n",
       "      <td>9644</td>\n",
       "      <td>17.30</td>\n",
       "    </tr>\n",
       "    <tr>\n",
       "      <th>regon_organu_prowadzacego</th>\n",
       "      <td>True</td>\n",
       "      <td>8466</td>\n",
       "      <td>15.19</td>\n",
       "    </tr>\n",
       "    <tr>\n",
       "      <th>rank_ha</th>\n",
       "      <td>True</td>\n",
       "      <td>6502</td>\n",
       "      <td>11.67</td>\n",
       "    </tr>\n",
       "    <tr>\n",
       "      <th>rank_population</th>\n",
       "      <td>True</td>\n",
       "      <td>6502</td>\n",
       "      <td>11.67</td>\n",
       "    </tr>\n",
       "    <tr>\n",
       "      <th>liczba_uczniow</th>\n",
       "      <td>True</td>\n",
       "      <td>5560</td>\n",
       "      <td>9.98</td>\n",
       "    </tr>\n",
       "    <tr>\n",
       "      <th>identyfikator</th>\n",
       "      <td>True</td>\n",
       "      <td>3895</td>\n",
       "      <td>6.99</td>\n",
       "    </tr>\n",
       "    <tr>\n",
       "      <th>gminy_nazwa</th>\n",
       "      <td>True</td>\n",
       "      <td>3895</td>\n",
       "      <td>6.99</td>\n",
       "    </tr>\n",
       "    <tr>\n",
       "      <th>area_ha</th>\n",
       "      <td>True</td>\n",
       "      <td>3895</td>\n",
       "      <td>6.99</td>\n",
       "    </tr>\n",
       "    <tr>\n",
       "      <th>area_km</th>\n",
       "      <td>True</td>\n",
       "      <td>3895</td>\n",
       "      <td>6.99</td>\n",
       "    </tr>\n",
       "    <tr>\n",
       "      <th>population_total</th>\n",
       "      <td>True</td>\n",
       "      <td>3895</td>\n",
       "      <td>6.99</td>\n",
       "    </tr>\n",
       "    <tr>\n",
       "      <th>population_per_1km</th>\n",
       "      <td>True</td>\n",
       "      <td>3895</td>\n",
       "      <td>6.99</td>\n",
       "    </tr>\n",
       "    <tr>\n",
       "      <th>e-mail</th>\n",
       "      <td>True</td>\n",
       "      <td>2636</td>\n",
       "      <td>4.73</td>\n",
       "    </tr>\n",
       "    <tr>\n",
       "      <th>telefon</th>\n",
       "      <td>True</td>\n",
       "      <td>1974</td>\n",
       "      <td>3.54</td>\n",
       "    </tr>\n",
       "    <tr>\n",
       "      <th>data_rozpoczecia_dzialalnosci</th>\n",
       "      <td>True</td>\n",
       "      <td>228</td>\n",
       "      <td>0.41</td>\n",
       "    </tr>\n",
       "    <tr>\n",
       "      <th>powiat_organu_prowadzacego</th>\n",
       "      <td>True</td>\n",
       "      <td>3</td>\n",
       "      <td>0.01</td>\n",
       "    </tr>\n",
       "    <tr>\n",
       "      <th>wojewodztwo_organu_prowadzacego</th>\n",
       "      <td>True</td>\n",
       "      <td>3</td>\n",
       "      <td>0.01</td>\n",
       "    </tr>\n",
       "    <tr>\n",
       "      <th>gmina_organu_prowadzacego</th>\n",
       "      <td>True</td>\n",
       "      <td>3</td>\n",
       "      <td>0.01</td>\n",
       "    </tr>\n",
       "  </tbody>\n",
       "</table>\n",
       "</div>"
      ],
      "text/plain": [
       "                                 Nulls  Num_of_nulls [qty]  Num_of_nulls [%]\n",
       "data_likwidacji                   True               55730            100.00\n",
       "numer_lokalu                      True               53091             95.26\n",
       "nip_organu_prowadzacego           True               45100             80.93\n",
       "tereny_sportowe                   True               44343             79.57\n",
       "rspo_podmiotu_nadrzednego         True               39671             71.18\n",
       "nazwa_podmiotu_nadrzednego        True               39671             71.18\n",
       "typ_podmiotu_nadrzednego          True               39671             71.18\n",
       "faks                              True               31347             56.25\n",
       "nip_podmiotu                      True               27166             48.75\n",
       "imie_i_nazwisko_dyrektora         True               20852             37.42\n",
       "jezyki_nauczane                   True               18687             33.53\n",
       "ulica                             True                9644             17.30\n",
       "kod_terytorialny_ulica            True                9644             17.30\n",
       "regon_organu_prowadzacego         True                8466             15.19\n",
       "rank_ha                           True                6502             11.67\n",
       "rank_population                   True                6502             11.67\n",
       "liczba_uczniow                    True                5560              9.98\n",
       "identyfikator                     True                3895              6.99\n",
       "gminy_nazwa                       True                3895              6.99\n",
       "area_ha                           True                3895              6.99\n",
       "area_km                           True                3895              6.99\n",
       "population_total                  True                3895              6.99\n",
       "population_per_1km                True                3895              6.99\n",
       "e-mail                            True                2636              4.73\n",
       "telefon                           True                1974              3.54\n",
       "data_rozpoczecia_dzialalnosci     True                 228              0.41\n",
       "powiat_organu_prowadzacego        True                   3              0.01\n",
       "wojewodztwo_organu_prowadzacego   True                   3              0.01\n",
       "gmina_organu_prowadzacego         True                   3              0.01"
      ]
     },
     "execution_count": 13,
     "metadata": {},
     "output_type": "execute_result"
    }
   ],
   "source": [
    "nulls_summary = pd.DataFrame(df.isnull().any(), columns=[\"Nulls\"])\n",
    "nulls_summary[\"Num_of_nulls [qty]\"] = pd.DataFrame(df.isnull().sum())\n",
    "nulls_summary[\"Num_of_nulls [%]\"] = round((df.isnull().mean() * 100), 2)\n",
    "nulls_summary = nulls_summary[nulls_summary[\"Nulls\"]]\n",
    "nulls_summary.sort_values(\"Num_of_nulls [%]\", ascending=False)"
   ]
  },
  {
   "cell_type": "code",
   "execution_count": 24,
   "metadata": {},
   "outputs": [],
   "source": [
    "# usuwam kolumne data_likwidacji i duplikaty kolumn nazw gmin, powiatów -> z danych GUS\n",
    "if \"data_likwidacji\" in df.columns:\n",
    "    df.drop(\"data_likwidacji\", axis=1, inplace=True)"
   ]
  },
  {
   "cell_type": "code",
   "execution_count": 25,
   "metadata": {},
   "outputs": [
    {
     "data": {
      "text/plain": [
       "70"
      ]
     },
     "execution_count": 25,
     "metadata": {},
     "output_type": "execute_result"
    }
   ],
   "source": [
    "len(df.columns)"
   ]
  },
  {
   "cell_type": "markdown",
   "metadata": {},
   "source": [
    "## Konwersja danych typu int na object"
   ]
  },
  {
   "cell_type": "code",
   "execution_count": 17,
   "metadata": {},
   "outputs": [
    {
     "data": {
      "text/plain": [
       "Index(['numer_rspo', 'regon_podmiotu', 'kod_terytorialny_wojewodztwo',\n",
       "       'kod_terytorialny_powiat', 'kod_terytorialny_gmina',\n",
       "       'kod_terytorialny_miejscowosc', 'identyfikator_prov', 'area_ha_prov',\n",
       "       'area_km_prov', 'population_total_prov', 'population_per_1km_prov',\n",
       "       'rank_ha_prov', 'rank_population_prov', 'identyfikator_dist',\n",
       "       'area_ha_dist', 'area_km_dist', 'population_total_dist',\n",
       "       'population_per_1km_dist', 'rank_ha_dist', 'rank_population_dist'],\n",
       "      dtype='object')"
      ]
     },
     "execution_count": 17,
     "metadata": {},
     "output_type": "execute_result"
    }
   ],
   "source": [
    "df.select_dtypes(\"int\").columns"
   ]
  },
  {
   "cell_type": "code",
   "execution_count": 45,
   "metadata": {},
   "outputs": [],
   "source": [
    "col_list = [\n",
    "    \"regon_podmiotu\",\n",
    "    \"kod_terytorialny_wojewodztwo\",\n",
    "    \"kod_terytorialny_powiat\",\n",
    "    \"kod_terytorialny_gmina\",\n",
    "    \"kod_terytorialny_miejscowosc\",\n",
    "    \"identyfikator_prov\",\n",
    "    \"identyfikator_dist\",\n",
    "    \"kod_terytorialny_ulica\",\n",
    "    \"nip_podmiotu\",\n",
    "    \"regon_organu_prowadzacego\",\n",
    "    \"nip_organu_prowadzacego\",\n",
    "    \"rspo_podmiotu_nadrzednego\",\n",
    "    \"identyfikator\",\n",
    "]"
   ]
  },
  {
   "cell_type": "code",
   "execution_count": 46,
   "metadata": {},
   "outputs": [],
   "source": [
    "for col in col_list:\n",
    "    df[col] = df[col].astype(\"object\")"
   ]
  },
  {
   "cell_type": "code",
   "execution_count": 47,
   "metadata": {},
   "outputs": [
    {
     "data": {
      "text/html": [
       "<div>\n",
       "<style scoped>\n",
       "    .dataframe tbody tr th:only-of-type {\n",
       "        vertical-align: middle;\n",
       "    }\n",
       "\n",
       "    .dataframe tbody tr th {\n",
       "        vertical-align: top;\n",
       "    }\n",
       "\n",
       "    .dataframe thead th {\n",
       "        text-align: right;\n",
       "    }\n",
       "</style>\n",
       "<table border=\"1\" class=\"dataframe\">\n",
       "  <thead>\n",
       "    <tr style=\"text-align: right;\">\n",
       "      <th></th>\n",
       "      <th>liczba_uczniow</th>\n",
       "      <th>area_ha_prov</th>\n",
       "      <th>area_km_prov</th>\n",
       "      <th>population_total_prov</th>\n",
       "      <th>population_per_1km_prov</th>\n",
       "      <th>rank_ha_prov</th>\n",
       "      <th>rank_population_prov</th>\n",
       "      <th>area_ha_dist</th>\n",
       "      <th>area_km_dist</th>\n",
       "      <th>population_total_dist</th>\n",
       "      <th>population_per_1km_dist</th>\n",
       "      <th>rank_ha_dist</th>\n",
       "      <th>rank_population_dist</th>\n",
       "      <th>area_ha</th>\n",
       "      <th>area_km</th>\n",
       "      <th>population_total</th>\n",
       "      <th>population_per_1km</th>\n",
       "    </tr>\n",
       "  </thead>\n",
       "  <tbody>\n",
       "    <tr>\n",
       "      <th>count</th>\n",
       "      <td>50170.000000</td>\n",
       "      <td>5.573000e+04</td>\n",
       "      <td>55730.000000</td>\n",
       "      <td>5.573000e+04</td>\n",
       "      <td>55730.000000</td>\n",
       "      <td>55730.000000</td>\n",
       "      <td>55730.000000</td>\n",
       "      <td>55730.000000</td>\n",
       "      <td>55730.000000</td>\n",
       "      <td>5.573000e+04</td>\n",
       "      <td>55730.000000</td>\n",
       "      <td>55730.000000</td>\n",
       "      <td>55730.000000</td>\n",
       "      <td>51835.000000</td>\n",
       "      <td>51835.000000</td>\n",
       "      <td>5.183500e+04</td>\n",
       "      <td>51835.000000</td>\n",
       "    </tr>\n",
       "    <tr>\n",
       "      <th>mean</th>\n",
       "      <td>130.649233</td>\n",
       "      <td>2.121243e+06</td>\n",
       "      <td>21212.461942</td>\n",
       "      <td>3.025775e+06</td>\n",
       "      <td>153.983994</td>\n",
       "      <td>7.748520</td>\n",
       "      <td>6.275435</td>\n",
       "      <td>74054.049901</td>\n",
       "      <td>740.533160</td>\n",
       "      <td>2.434904e+05</td>\n",
       "      <td>774.394276</td>\n",
       "      <td>103.738902</td>\n",
       "      <td>81.853867</td>\n",
       "      <td>8763.349744</td>\n",
       "      <td>87.645780</td>\n",
       "      <td>6.722303e+04</td>\n",
       "      <td>1265.005402</td>\n",
       "    </tr>\n",
       "    <tr>\n",
       "      <th>std</th>\n",
       "      <td>182.128510</td>\n",
       "      <td>7.788653e+05</td>\n",
       "      <td>7788.772547</td>\n",
       "      <td>1.376312e+06</td>\n",
       "      <td>84.753783</td>\n",
       "      <td>4.836694</td>\n",
       "      <td>4.356624</td>\n",
       "      <td>54832.531120</td>\n",
       "      <td>548.268027</td>\n",
       "      <td>3.807404e+05</td>\n",
       "      <td>1009.419312</td>\n",
       "      <td>97.247920</td>\n",
       "      <td>85.200411</td>\n",
       "      <td>7747.557813</td>\n",
       "      <td>77.483211</td>\n",
       "      <td>1.039611e+05</td>\n",
       "      <td>11492.796742</td>\n",
       "    </tr>\n",
       "    <tr>\n",
       "      <th>min</th>\n",
       "      <td>0.000000</td>\n",
       "      <td>9.411870e+05</td>\n",
       "      <td>9412.000000</td>\n",
       "      <td>9.767740e+05</td>\n",
       "      <td>58.000000</td>\n",
       "      <td>1.000000</td>\n",
       "      <td>1.000000</td>\n",
       "      <td>1331.000000</td>\n",
       "      <td>13.000000</td>\n",
       "      <td>1.968900e+04</td>\n",
       "      <td>19.000000</td>\n",
       "      <td>1.000000</td>\n",
       "      <td>1.000000</td>\n",
       "      <td>99.000000</td>\n",
       "      <td>1.000000</td>\n",
       "      <td>3.360000e+02</td>\n",
       "      <td>4.000000</td>\n",
       "    </tr>\n",
       "    <tr>\n",
       "      <th>25%</th>\n",
       "      <td>11.000000</td>\n",
       "      <td>1.518279e+06</td>\n",
       "      <td>15183.000000</td>\n",
       "      <td>2.095258e+06</td>\n",
       "      <td>105.000000</td>\n",
       "      <td>3.000000</td>\n",
       "      <td>2.000000</td>\n",
       "      <td>29282.000000</td>\n",
       "      <td>293.000000</td>\n",
       "      <td>7.391900e+04</td>\n",
       "      <td>80.000000</td>\n",
       "      <td>19.000000</td>\n",
       "      <td>12.000000</td>\n",
       "      <td>2391.000000</td>\n",
       "      <td>24.000000</td>\n",
       "      <td>8.539000e+03</td>\n",
       "      <td>107.000000</td>\n",
       "    </tr>\n",
       "    <tr>\n",
       "      <th>50%</th>\n",
       "      <td>71.000000</td>\n",
       "      <td>1.832368e+06</td>\n",
       "      <td>18323.000000</td>\n",
       "      <td>2.891321e+06</td>\n",
       "      <td>128.000000</td>\n",
       "      <td>8.000000</td>\n",
       "      <td>5.000000</td>\n",
       "      <td>64620.000000</td>\n",
       "      <td>646.000000</td>\n",
       "      <td>1.123840e+05</td>\n",
       "      <td>149.000000</td>\n",
       "      <td>66.000000</td>\n",
       "      <td>47.000000</td>\n",
       "      <td>7276.000000</td>\n",
       "      <td>73.000000</td>\n",
       "      <td>2.015200e+04</td>\n",
       "      <td>859.000000</td>\n",
       "    </tr>\n",
       "    <tr>\n",
       "      <th>75%</th>\n",
       "      <td>160.000000</td>\n",
       "      <td>2.512246e+06</td>\n",
       "      <td>25123.000000</td>\n",
       "      <td>4.492330e+06</td>\n",
       "      <td>153.000000</td>\n",
       "      <td>12.000000</td>\n",
       "      <td>9.000000</td>\n",
       "      <td>111770.000000</td>\n",
       "      <td>1118.000000</td>\n",
       "      <td>1.975860e+05</td>\n",
       "      <td>1486.000000</td>\n",
       "      <td>181.000000</td>\n",
       "      <td>135.000000</td>\n",
       "      <td>12895.000000</td>\n",
       "      <td>129.000000</td>\n",
       "      <td>7.781300e+04</td>\n",
       "      <td>1646.000000</td>\n",
       "    </tr>\n",
       "    <tr>\n",
       "      <th>max</th>\n",
       "      <td>5527.000000</td>\n",
       "      <td>3.555847e+06</td>\n",
       "      <td>35559.000000</td>\n",
       "      <td>5.425028e+06</td>\n",
       "      <td>364.000000</td>\n",
       "      <td>16.000000</td>\n",
       "      <td>16.000000</td>\n",
       "      <td>297644.000000</td>\n",
       "      <td>2975.000000</td>\n",
       "      <td>1.794166e+06</td>\n",
       "      <td>3690.000000</td>\n",
       "      <td>313.000000</td>\n",
       "      <td>313.000000</td>\n",
       "      <td>62362.000000</td>\n",
       "      <td>624.000000</td>\n",
       "      <td>1.794166e+06</td>\n",
       "      <td>919884.000000</td>\n",
       "    </tr>\n",
       "  </tbody>\n",
       "</table>\n",
       "</div>"
      ],
      "text/plain": [
       "       liczba_uczniow  area_ha_prov  area_km_prov  population_total_prov  \\\n",
       "count    50170.000000  5.573000e+04  55730.000000           5.573000e+04   \n",
       "mean       130.649233  2.121243e+06  21212.461942           3.025775e+06   \n",
       "std        182.128510  7.788653e+05   7788.772547           1.376312e+06   \n",
       "min          0.000000  9.411870e+05   9412.000000           9.767740e+05   \n",
       "25%         11.000000  1.518279e+06  15183.000000           2.095258e+06   \n",
       "50%         71.000000  1.832368e+06  18323.000000           2.891321e+06   \n",
       "75%        160.000000  2.512246e+06  25123.000000           4.492330e+06   \n",
       "max       5527.000000  3.555847e+06  35559.000000           5.425028e+06   \n",
       "\n",
       "       population_per_1km_prov  rank_ha_prov  rank_population_prov  \\\n",
       "count             55730.000000  55730.000000          55730.000000   \n",
       "mean                153.983994      7.748520              6.275435   \n",
       "std                  84.753783      4.836694              4.356624   \n",
       "min                  58.000000      1.000000              1.000000   \n",
       "25%                 105.000000      3.000000              2.000000   \n",
       "50%                 128.000000      8.000000              5.000000   \n",
       "75%                 153.000000     12.000000              9.000000   \n",
       "max                 364.000000     16.000000             16.000000   \n",
       "\n",
       "        area_ha_dist  area_km_dist  population_total_dist  \\\n",
       "count   55730.000000  55730.000000           5.573000e+04   \n",
       "mean    74054.049901    740.533160           2.434904e+05   \n",
       "std     54832.531120    548.268027           3.807404e+05   \n",
       "min      1331.000000     13.000000           1.968900e+04   \n",
       "25%     29282.000000    293.000000           7.391900e+04   \n",
       "50%     64620.000000    646.000000           1.123840e+05   \n",
       "75%    111770.000000   1118.000000           1.975860e+05   \n",
       "max    297644.000000   2975.000000           1.794166e+06   \n",
       "\n",
       "       population_per_1km_dist  rank_ha_dist  rank_population_dist  \\\n",
       "count             55730.000000  55730.000000          55730.000000   \n",
       "mean                774.394276    103.738902             81.853867   \n",
       "std                1009.419312     97.247920             85.200411   \n",
       "min                  19.000000      1.000000              1.000000   \n",
       "25%                  80.000000     19.000000             12.000000   \n",
       "50%                 149.000000     66.000000             47.000000   \n",
       "75%                1486.000000    181.000000            135.000000   \n",
       "max                3690.000000    313.000000            313.000000   \n",
       "\n",
       "            area_ha       area_km  population_total  population_per_1km  \n",
       "count  51835.000000  51835.000000      5.183500e+04        51835.000000  \n",
       "mean    8763.349744     87.645780      6.722303e+04         1265.005402  \n",
       "std     7747.557813     77.483211      1.039611e+05        11492.796742  \n",
       "min       99.000000      1.000000      3.360000e+02            4.000000  \n",
       "25%     2391.000000     24.000000      8.539000e+03          107.000000  \n",
       "50%     7276.000000     73.000000      2.015200e+04          859.000000  \n",
       "75%    12895.000000    129.000000      7.781300e+04         1646.000000  \n",
       "max    62362.000000    624.000000      1.794166e+06       919884.000000  "
      ]
     },
     "execution_count": 47,
     "metadata": {},
     "output_type": "execute_result"
    }
   ],
   "source": [
    "# df.agg(['mean', 'median', 'count'])\n",
    "df.describe().iloc[:, :20]"
   ]
  },
  {
   "cell_type": "code",
   "execution_count": 114,
   "metadata": {},
   "outputs": [],
   "source": [
    "black_list = [\n",
    "    \"data_likwidacji\",\n",
    "    \"nip_podmiotu\",\n",
    "    \"faks\",\n",
    "    \"imie_i_nazwisko_dyrektora\",\n",
    "    \"nip_organu_prowadzacego\",\n",
    "    \"wojewodztwo_nazwa\",\n",
    "    \"identyfikator\",\n",
    "    \"gminy_nazwa\",\n",
    "    \"area_ha\",\n",
    "    \"area_km\",\n",
    "    \"population_total\",\n",
    "    \"population_per_1km\",\n",
    "    \"rank_ha\",\n",
    "    \"rank_population\",\n",
    "    \"identyfikator_prov\",\n",
    "    \"powiaty_nazwa\",\n",
    "]\n",
    "\n",
    "for i in black_list:\n",
    "    if i in df.columns:\n",
    "        df.drop(i, axis=1, inplace=True)"
   ]
  },
  {
   "cell_type": "code",
   "execution_count": 115,
   "metadata": {},
   "outputs": [],
   "source": [
    "col = df.select_dtypes(\"object\").columns"
   ]
  },
  {
   "cell_type": "code",
   "execution_count": 116,
   "metadata": {},
   "outputs": [
    {
     "name": "stdout",
     "output_type": "stream",
     "text": [
      "typ: 53 unikalnych wartości.\n",
      "nazwa: 51156 unikalnych wartości.\n",
      "wojewodztwo: 16 unikalnych wartości.\n",
      "powiat: 370 unikalnych wartości.\n",
      "gmina: 3084 unikalnych wartości.\n",
      "miejscowosc: 8661 unikalnych wartości.\n",
      "rodzaj_miejscowosci: 11 unikalnych wartości.\n",
      "ulica: 7172 unikalnych wartości.\n",
      "numer_budynku: 2223 unikalnych wartości.\n",
      "numer_lokalu: 480 unikalnych wartości.\n",
      "kod_pocztowy: 8499 unikalnych wartości.\n",
      "poczta: 4213 unikalnych wartości.\n",
      "telefon: 36066 unikalnych wartości.\n",
      "e-mail: 35917 unikalnych wartości.\n",
      "strona_www: 26715 unikalnych wartości.\n",
      "publicznosc_status: 5 unikalnych wartości.\n",
      "kategoria_uczniow: 3 unikalnych wartości.\n",
      "specyfika_placowki: 2 unikalnych wartości.\n",
      "data_zalozenia: 10566 unikalnych wartości.\n",
      "data_rozpoczecia_dzialalnosci: 6840 unikalnych wartości.\n",
      "typ_organu_prowadzacego: 28 unikalnych wartości.\n",
      "nazwa_organu_prowadzacego: 13967 unikalnych wartości.\n",
      "wojewodztwo_organu_prowadzacego: 16 unikalnych wartości.\n",
      "powiat_organu_prowadzacego: 370 unikalnych wartości.\n",
      "gmina_organu_prowadzacego: 2757 unikalnych wartości.\n",
      "miejsce_w_strukturze: 7 unikalnych wartości.\n",
      "typ_podmiotu_nadrzednego: 17 unikalnych wartości.\n",
      "nazwa_podmiotu_nadrzednego: 5904 unikalnych wartości.\n",
      "tereny_sportowe: 1024 unikalnych wartości.\n",
      "jezyki_nauczane: 141 unikalnych wartości.\n",
      "gmina_nazwa: 2270 unikalnych wartości.\n",
      "gmina_typ: 7 unikalnych wartości.\n"
     ]
    }
   ],
   "source": [
    "for x in col:\n",
    "    print(\"{}: {} unikalnych wartości.\".format(x, df[x].nunique()))"
   ]
  },
  {
   "cell_type": "code",
   "execution_count": 117,
   "metadata": {},
   "outputs": [],
   "source": [
    "for x in col:\n",
    "    if df[x].nunique() <= 53:\n",
    "        df[x] = df[x].astype(\"category\")"
   ]
  },
  {
   "cell_type": "code",
   "execution_count": 118,
   "metadata": {},
   "outputs": [
    {
     "name": "stdout",
     "output_type": "stream",
     "text": [
      "kod_terytorialny_wojewodztwo: max 32\n",
      "kod_terytorialny_powiat: max 3263\n",
      "population_per_1km_prov: max 364\n",
      "rank_ha_prov: max 16\n",
      "rank_population_prov: max 16\n",
      "identyfikator_dist: max 3263\n",
      "area_km_dist: max 2975\n",
      "population_per_1km_dist: max 3690\n",
      "rank_ha_dist: max 313\n",
      "rank_population_dist: max 313\n"
     ]
    }
   ],
   "source": [
    "for x in df.select_dtypes(\"int64\").columns:\n",
    "    if df[x].max() <= 127:\n",
    "        print(\"{}: max {}\".format(x, df[x].max()))\n",
    "    elif df[x].max() <= 32767:\n",
    "        print(\"{}: max {}\".format(x, df[x].max()))"
   ]
  },
  {
   "cell_type": "code",
   "execution_count": 119,
   "metadata": {},
   "outputs": [],
   "source": [
    "for x in df.select_dtypes(\"int64\").columns:\n",
    "    if df[x].max() <= 127:\n",
    "        df[x] = df[x].astype(\"int8\")\n",
    "    elif df[x].max() <= 32767:\n",
    "        df[x] = df[x].astype(\"int16\")\n",
    "    elif df[x].max() <= 2147483647:\n",
    "        df[x] = df[x].astype(\"int32\")"
   ]
  },
  {
   "cell_type": "code",
   "execution_count": 120,
   "metadata": {},
   "outputs": [
    {
     "data": {
      "text/plain": [
       "(55730, 55)"
      ]
     },
     "execution_count": 120,
     "metadata": {},
     "output_type": "execute_result"
    }
   ],
   "source": [
    "df.shape"
   ]
  },
  {
   "cell_type": "code",
   "execution_count": 121,
   "metadata": {},
   "outputs": [],
   "source": [
    "# df['data_rozpoczecia_dzialalnosci']  =  pd.to_datetime(df['data_rozpoczecia_dzialalnosci'], errors = 'coerce')\n",
    "# df['data_zalozenia']  =  pd.to_datetime(df['data_zalozenia'], errors = 'coerce')"
   ]
  },
  {
   "cell_type": "code",
   "execution_count": 122,
   "metadata": {},
   "outputs": [
    {
     "data": {
      "text/plain": [
       "Index(['nazwa', 'powiat', 'gmina', 'miejscowosc', 'ulica', 'numer_budynku',\n",
       "       'numer_lokalu', 'kod_pocztowy', 'poczta', 'telefon', 'e-mail',\n",
       "       'strona_www', 'data_zalozenia', 'data_rozpoczecia_dzialalnosci',\n",
       "       'nazwa_organu_prowadzacego', 'powiat_organu_prowadzacego',\n",
       "       'gmina_organu_prowadzacego', 'nazwa_podmiotu_nadrzednego',\n",
       "       'tereny_sportowe', 'jezyki_nauczane', 'gmina_nazwa'],\n",
       "      dtype='object')"
      ]
     },
     "execution_count": 122,
     "metadata": {},
     "output_type": "execute_result"
    }
   ],
   "source": [
    "df.select_dtypes(\"object\").columns"
   ]
  },
  {
   "cell_type": "markdown",
   "metadata": {},
   "source": [
    "# Mapowanie typ_szkoly"
   ]
  },
  {
   "cell_type": "code",
   "execution_count": 123,
   "metadata": {},
   "outputs": [],
   "source": [
    "dict_typ = {\n",
    "    \"Szkoła podstawowa\": \"Szkoła podstawowa\",\n",
    "    \"Przedszkole\": \"Wczesna opieka i edukacja\",\n",
    "    \"Liceum ogólnokształcące\": \"Szkolnictwo średnie\",\n",
    "    \"Placówka Kształcenia Ustawicznego - bez szkół\": \"Other\",\n",
    "    \"Szkoła policealna\": \"Szkolnictwo policealne\",\n",
    "    \"Branżowa szkoła I stopnia\": \"Szkolnictwo średnie\",\n",
    "    \"Technikum\": \"Szkolnictwo średnie\",\n",
    "    \"Szkoła specjalna przysposabiająca do pracy\": \"Other\",\n",
    "    \"Szkoła muzyczna I stopnia\": \"Szkoła podstawowa\",\n",
    "    \"Branżowa szkoła II stopnia\": \"Szkolnictwo średnie\",\n",
    "    \"Placówka doskonalenia nauczycieli\": \"Other\",\n",
    "    \"Niepubliczna placówka oświatowo-wychowawcza w systemie oświaty\": \"Other\",\n",
    "    \"Specjalny Ośrodek Szkolno-Wychowawczy\": \"Other\",\n",
    "    \"Zespół szkół i placówek oświatowych\": \"Zespół szkół i placówek oświatowych\",\n",
    "    \"Szkolne schronisko młodzieżowe\": \"Other\",\n",
    "    \"Biblioteki pedagogiczne\": \"Other\",\n",
    "    \"Ośrodek Rewalidacyjno-Wychowawczy\": \"Other\",\n",
    "    \"Bursa\": \"Other\",\n",
    "    \"Szkoła muzyczna II stopnia\": \"Szkolnictwo średnie\",\n",
    "    \"Placówka Kształcenia Ustawicznego ze szkołami\": \"Szkolnictwo średnie\",\n",
    "    \"Młodzieżowy dom kultury\": \"Other\",\n",
    "    \"Młodzieżowy Ośrodek Wychowawczy\": \"Other\",\n",
    "    \"Niepubliczna placówka kształcenia ustawicznego i praktycznego\": \"Szkolnictwo średnie\",\n",
    "    \"Młodzieżowy Ośrodek Socjoterapii ze szkołami\": \"Szkoła podstawowa\",\n",
    "    \"Zespół wychowania przedszkolnego\": \"Wczesna opieka i edukacja\",\n",
    "    \"Liceum sztuk plastycznych\": \"Szkolnictwo średnie\",\n",
    "    \"Poradnia specjalistyczna\": \"Other\",\n",
    "    \"Ogólnokształcąca szkoła muzyczna I stopnia\": \"Szkoła podstawowa\",\n",
    "    \"Ognisko pracy pozaszkolnej\": \"Other\",\n",
    "    \"Międzyszkolny ośrodek sportowy\": \"Other\",\n",
    "    \"Placówki artystyczne (ognisko artystyczne)\": \"Other\",\n",
    "    \"Policealna szkoła plastyczna\": \"Szkolnictwo policealne\",\n",
    "    \"Ogólnokształcąca szkoła muzyczna II stopnia\": \"Szkolnictwo średnie\",\n",
    "    \"Specjalny Ośrodek Wychowawczy\": \"Other\",\n",
    "    \"Dom wczasów dziecięcych\": \"Other\",\n",
    "    \"Pozaszkolna placówka specjalistyczna\": \"Other\",\n",
    "    \"Ogólnokształcąca szkoła sztuk pięknych\": \"Szkolnictwo średnie\",\n",
    "    \"Pałac młodzieży\": \"Other\",\n",
    "    \"Szkoła sztuki tańca\": \"Other\",\n",
    "    \"Inna szkoła artystyczna\": \"Other\",\n",
    "    \"Policealna szkoła muzyczna\": \"Szkolnictwo policealne\",\n",
    "    \"Ogród jordanowski\": \"Other\",\n",
    "    \"Gimnazjum\": \"Gimnazium\",\n",
    "    \"Ogólnokształcąca szkoła baletowa\": \"Szkoła podstawowa\",\n",
    "    \"Kolegium Pracowników Służb Społecznych\": \"Other\",\n",
    "    \"Niepubliczna placówka kształcenia ustawicznego i praktycznego ze szkołami\": \"Szkolnictwo średnie\",\n",
    "    \"Centrum Kształcenia Praktycznego\": \"Other\",\n",
    "    \"Poznańska szkoła chóralna\": \"Other\",\n",
    "    \"Szkoła sztuki cyrkowej\": \"Other\",\n",
    "    \"Bednarska Szkoła Realna\": \"Szkolnictwo średnie\",\n",
    "}"
   ]
  },
  {
   "cell_type": "code",
   "execution_count": 124,
   "metadata": {},
   "outputs": [],
   "source": [
    "df[\"school_typ_cat\"] = df[\"typ\"].map(dict_typ)\n",
    "df[\"school_typ_cat\"] = df[\"school_typ_cat\"].astype(\"category\")"
   ]
  },
  {
   "cell_type": "code",
   "execution_count": 125,
   "metadata": {},
   "outputs": [
    {
     "data": {
      "text/html": [
       "<div>\n",
       "<style scoped>\n",
       "    .dataframe tbody tr th:only-of-type {\n",
       "        vertical-align: middle;\n",
       "    }\n",
       "\n",
       "    .dataframe tbody tr th {\n",
       "        vertical-align: top;\n",
       "    }\n",
       "\n",
       "    .dataframe thead th {\n",
       "        text-align: right;\n",
       "    }\n",
       "</style>\n",
       "<table border=\"1\" class=\"dataframe\">\n",
       "  <thead>\n",
       "    <tr style=\"text-align: right;\">\n",
       "      <th></th>\n",
       "      <th>school_typ_cat</th>\n",
       "    </tr>\n",
       "  </thead>\n",
       "  <tbody>\n",
       "    <tr>\n",
       "      <th>Szkoła podstawowa</th>\n",
       "      <td>15091</td>\n",
       "    </tr>\n",
       "    <tr>\n",
       "      <th>Wczesna opieka i edukacja</th>\n",
       "      <td>13879</td>\n",
       "    </tr>\n",
       "    <tr>\n",
       "      <th>Szkolnictwo średnie</th>\n",
       "      <td>9196</td>\n",
       "    </tr>\n",
       "    <tr>\n",
       "      <th>Other</th>\n",
       "      <td>6227</td>\n",
       "    </tr>\n",
       "    <tr>\n",
       "      <th>Zespół szkół i placówek oświatowych</th>\n",
       "      <td>5245</td>\n",
       "    </tr>\n",
       "    <tr>\n",
       "      <th>Szkolnictwo policealne</th>\n",
       "      <td>2597</td>\n",
       "    </tr>\n",
       "    <tr>\n",
       "      <th>Gimnazium</th>\n",
       "      <td>8</td>\n",
       "    </tr>\n",
       "  </tbody>\n",
       "</table>\n",
       "</div>"
      ],
      "text/plain": [
       "                                     school_typ_cat\n",
       "Szkoła podstawowa                             15091\n",
       "Wczesna opieka i edukacja                     13879\n",
       "Szkolnictwo średnie                            9196\n",
       "Other                                          6227\n",
       "Zespół szkół i placówek oświatowych            5245\n",
       "Szkolnictwo policealne                         2597\n",
       "Gimnazium                                         8"
      ]
     },
     "execution_count": 125,
     "metadata": {},
     "output_type": "execute_result"
    }
   ],
   "source": [
    "pd.DataFrame(df[\"school_typ_cat\"].value_counts())"
   ]
  },
  {
   "cell_type": "markdown",
   "metadata": {},
   "source": [
    "## Mapowanie rodzaj_miejscowosci"
   ]
  },
  {
   "cell_type": "code",
   "execution_count": 126,
   "metadata": {},
   "outputs": [
    {
     "data": {
      "text/plain": [
       "miasto                      31405\n",
       "wieś                        17333\n",
       "delegatura                   3813\n",
       "dzielnica m.st. Warszawy     2607\n",
       "osada                         335\n",
       "część miejscowości             91\n",
       "kolonia                        87\n",
       "przysiółek                     21\n",
       "osada leśna                    20\n",
       "osiedle                        13\n",
       "część miasta                    5\n",
       "Name: rodzaj_miejscowosci, dtype: int64"
      ]
     },
     "execution_count": 126,
     "metadata": {},
     "output_type": "execute_result"
    }
   ],
   "source": [
    "df.rodzaj_miejscowosci.value_counts()"
   ]
  },
  {
   "cell_type": "code",
   "execution_count": 127,
   "metadata": {},
   "outputs": [
    {
     "data": {
      "text/plain": [
       "gmina_typ                \n",
       "gmina wiejska                75\n",
       "obszar wiejski               16\n",
       "Szczecińska gmina wiejska     0\n",
       "delegatura                    0\n",
       "dzielnica                     0\n",
       "gmina miejska                 0\n",
       "miasto                        0\n",
       "dtype: int64"
      ]
     },
     "execution_count": 127,
     "metadata": {},
     "output_type": "execute_result"
    }
   ],
   "source": [
    "df[df.rodzaj_miejscowosci == \"część miejscowości\"][[\"gmina_typ\"]].value_counts()"
   ]
  },
  {
   "cell_type": "code",
   "execution_count": 128,
   "metadata": {},
   "outputs": [
    {
     "data": {
      "text/plain": [
       "gmina_typ   miejscowosc         \n",
       "delegatura  Kraków-Podgórze         379\n",
       "            Kraków-Śródmieście      342\n",
       "            Poznań-Stare Miasto     288\n",
       "            Kraków-Krowodrza        253\n",
       "            Wrocław-Krzyki          253\n",
       "            Kraków-Nowa Huta        244\n",
       "            Wrocław-Fabryczna       237\n",
       "            Poznań-Grunwald         229\n",
       "            Łódź-Bałuty             210\n",
       "            Łódź-Śródmieście        194\n",
       "            Poznań-Nowe Miasto      165\n",
       "            Łódź-Górna              164\n",
       "            Wrocław-Stare Miasto    152\n",
       "            Łódź-Polesie            138\n",
       "            Poznań-Jeżyce           135\n",
       "            Łódź-Widzew             120\n",
       "            Wrocław-Psie Pole       117\n",
       "            Wrocław-Śródmieście     110\n",
       "            Poznań-Wilda             83\n",
       "dtype: int64"
      ]
     },
     "execution_count": 128,
     "metadata": {},
     "output_type": "execute_result"
    }
   ],
   "source": [
    "df[df.rodzaj_miejscowosci == \"delegatura\"][[\"gmina_typ\", \"miejscowosc\"]].value_counts()"
   ]
  },
  {
   "cell_type": "code",
   "execution_count": 129,
   "metadata": {},
   "outputs": [],
   "source": [
    "wieś = [\"wieś\", \"kolonia\", \"osada\", \"przysiółek\", \"osada leśna\", \"część miejscowości\"]\n",
    "df[\"rodzaj_miejscowosci\"] = df[\"rodzaj_miejscowosci\"].map(lambda x: \"wieś\" if x in wieś else x)"
   ]
  },
  {
   "cell_type": "code",
   "execution_count": 130,
   "metadata": {},
   "outputs": [],
   "source": [
    "miasto = [\"część miasta\", \"osiedle\", \"dzielnica m.st. Warszawy\", \"miasto\", \"delegatura\"]\n",
    "\n",
    "df[\"rodzaj_miejscowosci\"] = df[\"rodzaj_miejscowosci\"].map(lambda x: \"miasto\" if x in miasto else x)"
   ]
  },
  {
   "cell_type": "code",
   "execution_count": 131,
   "metadata": {},
   "outputs": [],
   "source": [
    "df.rodzaj_miejscowosci = df.rodzaj_miejscowosci.astype(\"category\")"
   ]
  },
  {
   "cell_type": "code",
   "execution_count": 132,
   "metadata": {},
   "outputs": [
    {
     "data": {
      "text/plain": [
       "miasto    0.679042\n",
       "wieś      0.320958\n",
       "Name: rodzaj_miejscowosci, dtype: float64"
      ]
     },
     "execution_count": 132,
     "metadata": {},
     "output_type": "execute_result"
    }
   ],
   "source": [
    "df.rodzaj_miejscowosci.value_counts(normalize=True)"
   ]
  },
  {
   "cell_type": "code",
   "execution_count": 133,
   "metadata": {},
   "outputs": [
    {
     "data": {
      "image/png": "[encoded data removed]",
      "text/plain": [
       "<Figure size 432x288 with 1 Axes>"
      ]
     },
     "metadata": {
      "needs_background": "light"
     },
     "output_type": "display_data"
    }
   ],
   "source": [
    "sns.countplot(y=\"rodzaj_miejscowosci\", data=df)\n",
    "sns.despine()"
   ]
  },
  {
   "cell_type": "markdown",
   "metadata": {},
   "source": [
    "# Mapowanie publicznosc_status"
   ]
  },
  {
   "cell_type": "code",
   "execution_count": 134,
   "metadata": {},
   "outputs": [
    {
     "data": {
      "text/plain": [
       "CategoricalDtype(categories=['niepubliczna',\n",
       "                  'niepubliczna bez uprawnień szkoły publicznej',\n",
       "                  'niepubliczna szkoła artystyczna bez uprawnień publicznej szkoły artystycznej',\n",
       "                  'niepubliczna szkoła artystyczna o uprawnieniach publicznej szkoły artystycznej',\n",
       "                  'publiczna'],\n",
       ", ordered=False)"
      ]
     },
     "execution_count": 134,
     "metadata": {},
     "output_type": "execute_result"
    }
   ],
   "source": [
    "df.publicznosc_status.dtype"
   ]
  },
  {
   "cell_type": "code",
   "execution_count": 135,
   "metadata": {},
   "outputs": [
    {
     "data": {
      "text/plain": [
       "publiczna                                                                         37875\n",
       "niepubliczna                                                                      17536\n",
       "niepubliczna szkoła artystyczna bez uprawnień publicznej szkoły artystycznej        152\n",
       "niepubliczna szkoła artystyczna o uprawnieniach publicznej szkoły artystycznej      137\n",
       "niepubliczna bez uprawnień szkoły publicznej                                         30\n",
       "Name: publicznosc_status, dtype: int64"
      ]
     },
     "execution_count": 135,
     "metadata": {},
     "output_type": "execute_result"
    }
   ],
   "source": [
    "df.publicznosc_status.value_counts()"
   ]
  },
  {
   "cell_type": "code",
   "execution_count": 136,
   "metadata": {},
   "outputs": [],
   "source": [
    "df[\"publicznosc_status\"] = df[\"publicznosc_status\"].map(lambda x: \"niepubliczna\" if \"niepubliczna\" in x else x)"
   ]
  },
  {
   "cell_type": "code",
   "execution_count": 137,
   "metadata": {},
   "outputs": [],
   "source": [
    "df[\"publicznosc_status\"] = df[\"publicznosc_status\"].astype(\"category\")"
   ]
  },
  {
   "cell_type": "code",
   "execution_count": 138,
   "metadata": {},
   "outputs": [
    {
     "data": {
      "text/plain": [
       "publiczna       0.679616\n",
       "niepubliczna    0.320384\n",
       "Name: publicznosc_status, dtype: float64"
      ]
     },
     "execution_count": 138,
     "metadata": {},
     "output_type": "execute_result"
    }
   ],
   "source": [
    "df.publicznosc_status.value_counts(normalize=True)"
   ]
  },
  {
   "cell_type": "code",
   "execution_count": 139,
   "metadata": {},
   "outputs": [
    {
     "data": {
      "image/png": "[encoded data removed]",
      "text/plain": [
       "<Figure size 432x288 with 1 Axes>"
      ]
     },
     "metadata": {
      "needs_background": "light"
     },
     "output_type": "display_data"
    }
   ],
   "source": [
    "sns.countplot(y=\"publicznosc_status\", data=df)\n",
    "sns.despine()"
   ]
  },
  {
   "cell_type": "markdown",
   "metadata": {},
   "source": [
    "# Mapowanie miejsce_w_strukturze"
   ]
  },
  {
   "cell_type": "code",
   "execution_count": 140,
   "metadata": {},
   "outputs": [
    {
     "data": {
      "text/plain": [
       "CategoricalDtype(categories=['filia szkoły lub placówki', 'jednostka złożona',\n",
       "                  'samodzielna', 'szkoła lub placówka z filią',\n",
       "                  'szkoła/placówka w zespole',\n",
       "                  'szkoła/placówka wchodząca w skład jednostki złożonej',\n",
       "                  'zespół'],\n",
       ", ordered=False)"
      ]
     },
     "execution_count": 140,
     "metadata": {},
     "output_type": "execute_result"
    }
   ],
   "source": [
    "df.miejsce_w_strukturze.dtype"
   ]
  },
  {
   "cell_type": "code",
   "execution_count": 141,
   "metadata": {},
   "outputs": [
    {
     "data": {
      "text/plain": [
       "samodzielna                                             33662\n",
       "szkoła/placówka w zespole                               13606\n",
       "zespół                                                   5245\n",
       "szkoła/placówka wchodząca w skład jednostki złożonej     1640\n",
       "jednostka złożona                                         654\n",
       "filia szkoły lub placówki                                 551\n",
       "szkoła lub placówka z filią                               372\n",
       "Name: miejsce_w_strukturze, dtype: int64"
      ]
     },
     "execution_count": 141,
     "metadata": {},
     "output_type": "execute_result"
    }
   ],
   "source": [
    "df.miejsce_w_strukturze.value_counts()"
   ]
  },
  {
   "cell_type": "code",
   "execution_count": 142,
   "metadata": {},
   "outputs": [],
   "source": [
    "df.miejsce_w_strukturze = df.miejsce_w_strukturze.map(lambda x: x if x == \"samodzielna\" else \"zespół/filia\")"
   ]
  },
  {
   "cell_type": "code",
   "execution_count": 143,
   "metadata": {},
   "outputs": [],
   "source": [
    "df.miejsce_w_strukturze = df.miejsce_w_strukturze.astype(\"category\")"
   ]
  },
  {
   "cell_type": "code",
   "execution_count": 144,
   "metadata": {},
   "outputs": [
    {
     "data": {
      "text/plain": [
       "samodzielna     0.604019\n",
       "zespół/filia    0.395981\n",
       "Name: miejsce_w_strukturze, dtype: float64"
      ]
     },
     "execution_count": 144,
     "metadata": {},
     "output_type": "execute_result"
    }
   ],
   "source": [
    "df.miejsce_w_strukturze.value_counts(normalize=True)"
   ]
  },
  {
   "cell_type": "code",
   "execution_count": 145,
   "metadata": {},
   "outputs": [
    {
     "data": {
      "image/png": "[encoded data removed]",
      "text/plain": [
       "<Figure size 432x288 with 1 Axes>"
      ]
     },
     "metadata": {
      "needs_background": "light"
     },
     "output_type": "display_data"
    }
   ],
   "source": [
    "sns.countplot(y=\"miejsce_w_strukturze\", data=df)\n",
    "sns.despine()"
   ]
  },
  {
   "cell_type": "markdown",
   "metadata": {},
   "source": [
    "# Mapowanie typ_organu_prowadzacego"
   ]
  },
  {
   "cell_type": "code",
   "execution_count": 146,
   "metadata": {},
   "outputs": [
    {
     "data": {
      "text/plain": [
       "CategoricalDtype(categories=['Fundacje', 'Gmina', 'Izba rzemieślnicza',\n",
       "                  'Miasto na prawach powiatu',\n",
       "                  'Minister ds. gospodarki morskiej i żeglugi śródlądowej',\n",
       "                  'Minister ds. kultury i dziedzictwa narodowego',\n",
       "                  'Minister ds. obrony', 'Minister ds. oświaty i wychowania',\n",
       "                  'Minister ds. rolnictwa i rozwoju wsi',\n",
       "                  'Minister ds. sprawiedliwości',\n",
       "                  'Minister ds. wewnętrznych i administracji',\n",
       "                  'Minister ds. środowiska',\n",
       "                  'Organizacje Społeczne inne niż wymienione',\n",
       "                  'Organizacje Wyznaniowe', 'Organizacje Związkowe',\n",
       "                  'Osoba Fizyczna - Pracodawca', 'Osoba fizyczna',\n",
       "                  'Powiat ziemski', 'Przedsiębiorstwa Osób Fizycznych',\n",
       "                  'Przedsiębiorstwo Państwowe',\n",
       "                  'Samorząd Gospodarczy i Zawodowy', 'Samorząd województwa',\n",
       "                  'Samorządowa osoba prawna', 'Spółdzielnia',\n",
       "                  'Spółki Handlowe', 'Stowarzyszenia', 'Uczelnia Niepubliczna',\n",
       "                  'Uczelnia Publiczna'],\n",
       ", ordered=False)"
      ]
     },
     "execution_count": 146,
     "metadata": {},
     "output_type": "execute_result"
    }
   ],
   "source": [
    "df.typ_organu_prowadzacego.dtypes"
   ]
  },
  {
   "cell_type": "code",
   "execution_count": 147,
   "metadata": {},
   "outputs": [
    {
     "data": {
      "text/plain": [
       "Gmina                                                     17650\n",
       "Miasto na prawach powiatu                                  8736\n",
       "Osoba fizyczna                                             8185\n",
       "Powiat ziemski                                             7992\n",
       "Spółki Handlowe                                            4288\n",
       "Stowarzyszenia                                             3608\n",
       "Fundacje                                                   1435\n",
       "Organizacje Wyznaniowe                                      949\n",
       "Samorząd województwa                                        713\n",
       "Minister ds. kultury i dziedzictwa narodowego               502\n",
       "Przedsiębiorstwa Osób Fizycznych                            488\n",
       "Osoba Fizyczna - Pracodawca                                 283\n",
       "Minister ds. rolnictwa i rozwoju wsi                        275\n",
       "Uczelnia Niepubliczna                                       148\n",
       "Minister ds. sprawiedliwości                                119\n",
       "Organizacje Społeczne inne niż wymienione                    76\n",
       "Spółdzielnia                                                 58\n",
       "Izba rzemieślnicza                                           52\n",
       "Samorząd Gospodarczy i Zawodowy                              48\n",
       "Uczelnia Publiczna                                           33\n",
       "Organizacje Związkowe                                        31\n",
       "Minister ds. środowiska                                      22\n",
       "Przedsiębiorstwo Państwowe                                   17\n",
       "Samorządowa osoba prawna                                      6\n",
       "Minister ds. oświaty i wychowania                             5\n",
       "Minister ds. obrony                                           4\n",
       "Minister ds. gospodarki morskiej i żeglugi śródlądowej        4\n",
       "Minister ds. wewnętrznych i administracji                     3\n",
       "Name: typ_organu_prowadzacego, dtype: int64"
      ]
     },
     "execution_count": 147,
     "metadata": {},
     "output_type": "execute_result"
    }
   ],
   "source": [
    "df.typ_organu_prowadzacego.value_counts()"
   ]
  },
  {
   "cell_type": "code",
   "execution_count": 148,
   "metadata": {},
   "outputs": [],
   "source": [
    "df.typ_organu_prowadzacego = df.typ_organu_prowadzacego.map(lambda x: \"Ministerstwo\" if \"Minister\" in x else x)"
   ]
  },
  {
   "cell_type": "code",
   "execution_count": 149,
   "metadata": {},
   "outputs": [],
   "source": [
    "df.typ_organu_prowadzacego = df.typ_organu_prowadzacego.map(lambda x: \"Samorząd\" if \"Samorząd\" in x else x)\n",
    "df.typ_organu_prowadzacego = df.typ_organu_prowadzacego.map(lambda x: \"Uczelnia\" if \"Uczelnia\" in x else x)\n",
    "df.typ_organu_prowadzacego = df.typ_organu_prowadzacego.map(lambda x: \"Organizacje\" if \"Organizacje\" in x else x)\n",
    "df.typ_organu_prowadzacego = df.typ_organu_prowadzacego.map(lambda x: \"Osoba fizyczna\" if \"Osoba Fizyczna\" in x else x)\n",
    "df.typ_organu_prowadzacego = df.typ_organu_prowadzacego.map(\n",
    "    lambda x: \"Przedsiębiorstwa/Izby/Spoldzielnie/Uczelnia\"\n",
    "    if \"Przedsiębiorstw\" in x or \"Izba\" in x or \"Spółdzielnia\" in x or \"Uczelnia\" in x\n",
    "    else x\n",
    ")\n",
    "df.typ_organu_prowadzacego = df.typ_organu_prowadzacego.map(\n",
    "    lambda x: \"Stowrzyszenia/Fundacje/Organizacje\"\n",
    "    if \"Stowarzyszenia\" in x or \"Fundacje\" in x or \"Organizacje\" in x\n",
    "    else x\n",
    ")"
   ]
  },
  {
   "cell_type": "code",
   "execution_count": 150,
   "metadata": {},
   "outputs": [],
   "source": [
    "df.typ_organu_prowadzacego = df.typ_organu_prowadzacego.astype(\"category\")"
   ]
  },
  {
   "cell_type": "code",
   "execution_count": 151,
   "metadata": {},
   "outputs": [
    {
     "data": {
      "text/plain": [
       "Gmina                                          0.316706\n",
       "Miasto na prawach powiatu                      0.156756\n",
       "Osoba fizyczna                                 0.151947\n",
       "Powiat ziemski                                 0.143406\n",
       "Stowrzyszenia/Fundacje/Organizacje             0.109438\n",
       "Spółki Handlowe                                0.076942\n",
       "Ministerstwo                                   0.016759\n",
       "Przedsiębiorstwa/Izby/Spoldzielnie/Uczelnia    0.014283\n",
       "Samorząd                                       0.013763\n",
       "Name: typ_organu_prowadzacego, dtype: float64"
      ]
     },
     "execution_count": 151,
     "metadata": {},
     "output_type": "execute_result"
    }
   ],
   "source": [
    "df.typ_organu_prowadzacego.value_counts(normalize=True)"
   ]
  },
  {
   "cell_type": "code",
   "execution_count": 152,
   "metadata": {},
   "outputs": [
    {
     "data": {
      "image/png": "[encoded data removed]",
      "text/plain": [
       "<Figure size 432x288 with 1 Axes>"
      ]
     },
     "metadata": {
      "needs_background": "light"
     },
     "output_type": "display_data"
    }
   ],
   "source": [
    "sns.countplot(y=\"typ_organu_prowadzacego\", data=df, order=df[\"typ_organu_prowadzacego\"].value_counts().index)\n",
    "sns.despine()"
   ]
  },
  {
   "cell_type": "markdown",
   "metadata": {},
   "source": [
    "# Mapowanie gmina_typ"
   ]
  },
  {
   "cell_type": "code",
   "execution_count": 153,
   "metadata": {},
   "outputs": [
    {
     "data": {
      "text/plain": [
       "gmina miejska                22938\n",
       "gmina wiejska                13115\n",
       "miasto                        8472\n",
       "obszar wiejski                4761\n",
       "delegatura                    3813\n",
       "dzielnica                     2607\n",
       "Szczecińska gmina wiejska       24\n",
       "Name: gmina_typ, dtype: int64"
      ]
     },
     "execution_count": 153,
     "metadata": {},
     "output_type": "execute_result"
    }
   ],
   "source": [
    "df.gmina_typ.value_counts()"
   ]
  },
  {
   "cell_type": "code",
   "execution_count": 154,
   "metadata": {},
   "outputs": [
    {
     "data": {
      "text/html": [
       "<div>\n",
       "<style scoped>\n",
       "    .dataframe tbody tr th:only-of-type {\n",
       "        vertical-align: middle;\n",
       "    }\n",
       "\n",
       "    .dataframe tbody tr th {\n",
       "        vertical-align: top;\n",
       "    }\n",
       "\n",
       "    .dataframe thead th {\n",
       "        text-align: right;\n",
       "    }\n",
       "</style>\n",
       "<table border=\"1\" class=\"dataframe\">\n",
       "  <thead>\n",
       "    <tr style=\"text-align: right;\">\n",
       "      <th></th>\n",
       "      <th>miejscowosc</th>\n",
       "      <th>gmina</th>\n",
       "    </tr>\n",
       "  </thead>\n",
       "  <tbody>\n",
       "  </tbody>\n",
       "</table>\n",
       "</div>"
      ],
      "text/plain": [
       "Empty DataFrame\n",
       "Columns: [miejscowosc, gmina]\n",
       "Index: []"
      ]
     },
     "execution_count": 154,
     "metadata": {},
     "output_type": "execute_result"
    }
   ],
   "source": [
    "df[df[\"gmina_typ\"] == \"Szczecińska \"][[\"miejscowosc\", \"gmina\"]]"
   ]
  },
  {
   "cell_type": "code",
   "execution_count": 155,
   "metadata": {},
   "outputs": [],
   "source": [
    "df[\"gmina_typ\"] = df[\"gmina_typ\"].map(lambda x: \"gmina wiejska\" if \"Szczecińska\" in x else x)"
   ]
  },
  {
   "cell_type": "code",
   "execution_count": 156,
   "metadata": {},
   "outputs": [],
   "source": [
    "df[\"gmina_typ\"] = df[\"gmina_typ\"].map(lambda x: \"miasto\" if \"delegatura\" in x else x)\n",
    "df[\"gmina_typ\"] = df[\"gmina_typ\"].map(lambda x: \"miasto\" if \"dzielnica\" in x else x)\n",
    "df[\"gmina_typ\"] = df[\"gmina_typ\"].map(lambda x: \"gmina wiejska\" if \"obszar wiejski\" in x else x)"
   ]
  },
  {
   "cell_type": "code",
   "execution_count": 157,
   "metadata": {},
   "outputs": [
    {
     "data": {
      "text/plain": [
       "gmina miejska    0.411592\n",
       "gmina wiejska    0.321191\n",
       "miasto           0.267217\n",
       "Name: gmina_typ, dtype: float64"
      ]
     },
     "execution_count": 157,
     "metadata": {},
     "output_type": "execute_result"
    }
   ],
   "source": [
    "df.gmina_typ.value_counts(normalize=True)"
   ]
  },
  {
   "cell_type": "code",
   "execution_count": 158,
   "metadata": {},
   "outputs": [],
   "source": [
    "df.gmina_typ = df.gmina_typ.astype(\"category\")"
   ]
  },
  {
   "cell_type": "code",
   "execution_count": 159,
   "metadata": {},
   "outputs": [
    {
     "data": {
      "text/plain": [
       "gmina miejska    22938\n",
       "gmina wiejska    17900\n",
       "miasto           14892\n",
       "Name: gmina_typ, dtype: int64"
      ]
     },
     "execution_count": 159,
     "metadata": {},
     "output_type": "execute_result"
    }
   ],
   "source": [
    "df.gmina_typ.value_counts()"
   ]
  },
  {
   "cell_type": "code",
   "execution_count": 160,
   "metadata": {},
   "outputs": [
    {
     "data": {
      "image/png": "[encoded data removed]",
      "text/plain": [
       "<Figure size 432x288 with 1 Axes>"
      ]
     },
     "metadata": {
      "needs_background": "light"
     },
     "output_type": "display_data"
    }
   ],
   "source": [
    "sns.countplot(x=\"gmina_typ\", data=df)\n",
    "sns.despine()"
   ]
  },
  {
   "cell_type": "code",
   "execution_count": 161,
   "metadata": {},
   "outputs": [
    {
     "name": "stdout",
     "output_type": "stream",
     "text": [
      "miasto    0.679042\n",
      "wieś      0.320958\n",
      "Name: rodzaj_miejscowosci, dtype: float64\n",
      "publiczna       0.679616\n",
      "niepubliczna    0.320384\n",
      "Name: publicznosc_status, dtype: float64\n",
      "Dzieci lub młodzież    0.668886\n",
      "Bez kategorii          0.302512\n",
      "Dorośli                0.028602\n",
      "Name: kategoria_uczniow, dtype: float64\n",
      "brak specyfiki    0.953975\n",
      "specjalna         0.046025\n",
      "Name: specyfika_placowki, dtype: float64\n",
      "Gmina                                          0.316706\n",
      "Miasto na prawach powiatu                      0.156756\n",
      "Osoba fizyczna                                 0.151947\n",
      "Powiat ziemski                                 0.143406\n",
      "Stowrzyszenia/Fundacje/Organizacje             0.109438\n",
      "Spółki Handlowe                                0.076942\n",
      "Ministerstwo                                   0.016759\n",
      "Przedsiębiorstwa/Izby/Spoldzielnie/Uczelnia    0.014283\n",
      "Samorząd                                       0.013763\n",
      "Name: typ_organu_prowadzacego, dtype: float64\n",
      "samodzielna     0.604019\n",
      "zespół/filia    0.395981\n",
      "Name: miejsce_w_strukturze, dtype: float64\n",
      "gmina miejska    0.411592\n",
      "gmina wiejska    0.321191\n",
      "miasto           0.267217\n",
      "Name: gmina_typ, dtype: float64\n",
      "Szkoła podstawowa                      0.288862\n",
      "Wczesna opieka i edukacja              0.265662\n",
      "Szkolnictwo średnie                    0.176024\n",
      "Other                                  0.119193\n",
      "Zespół szkół i placówek oświatowych    0.100396\n",
      "Szkolnictwo policealne                 0.049710\n",
      "Gimnazium                              0.000153\n",
      "Name: school_typ_cat, dtype: float64\n"
     ]
    }
   ],
   "source": [
    "lista_ = [\n",
    "    \"rodzaj_miejscowosci\",\n",
    "    \"publicznosc_status\",\n",
    "    \"kategoria_uczniow\",\n",
    "    \"specyfika_placowki\",\n",
    "    \"typ_organu_prowadzacego\",\n",
    "    \"miejsce_w_strukturze\",\n",
    "    \"gmina_typ\",\n",
    "    \"school_typ_cat\",\n",
    "]\n",
    "for col in lista_:\n",
    "    print(\"{}\".format(df[col].value_counts(normalize=True)))"
   ]
  },
  {
   "cell_type": "code",
   "execution_count": 162,
   "metadata": {},
   "outputs": [
    {
     "data": {
      "text/plain": [
       "Dzieci lub młodzież    37277\n",
       "Bez kategorii          16859\n",
       "Dorośli                 1594\n",
       "Name: kategoria_uczniow, dtype: int64"
      ]
     },
     "execution_count": 162,
     "metadata": {},
     "output_type": "execute_result"
    }
   ],
   "source": [
    "df.kategoria_uczniow.value_counts()"
   ]
  },
  {
   "cell_type": "code",
   "execution_count": 163,
   "metadata": {},
   "outputs": [
    {
     "data": {
      "text/plain": [
       "kategoria_uczniow    school_typ_cat                     \n",
       "Dorośli              Gimnazium                                  1\n",
       "Dzieci lub młodzież  Gimnazium                                  7\n",
       "Dorośli              Szkoła podstawowa                        145\n",
       "Dzieci lub młodzież  Other                                    566\n",
       "Bez kategorii        Szkoła podstawowa                        630\n",
       "                     Szkolnictwo średnie                      909\n",
       "Dorośli              Szkolnictwo średnie                     1448\n",
       "Bez kategorii        Szkolnictwo policealne                  2597\n",
       "                     Zespół szkół i placówek oświatowych     5245\n",
       "                     Other                                   5661\n",
       "Dzieci lub młodzież  Szkolnictwo średnie                     6839\n",
       "                     Wczesna opieka i edukacja              13879\n",
       "                     Szkoła podstawowa                      14316\n",
       "dtype: int64"
      ]
     },
     "execution_count": 163,
     "metadata": {},
     "output_type": "execute_result"
    }
   ],
   "source": [
    "df[[\"kategoria_uczniow\", \"school_typ_cat\"]].value_counts().sort_values()"
   ]
  },
  {
   "cell_type": "markdown",
   "metadata": {},
   "source": [
    "# Wiek szkoły"
   ]
  },
  {
   "cell_type": "code",
   "execution_count": 164,
   "metadata": {},
   "outputs": [],
   "source": [
    "df[\"rok_zalozenia_cat\"] = df[\"data_zalozenia\"].map(lambda x: x.split(\"-\")[0])\n",
    "df[\"rok_zalozenia_cat\"] = df[\"rok_zalozenia_cat\"].astype(\"int\")"
   ]
  },
  {
   "cell_type": "code",
   "execution_count": 165,
   "metadata": {},
   "outputs": [],
   "source": [
    "rok_biezacy = date.today().year\n",
    "\n",
    "df[\"school_age\"] = int(rok_biezacy) - df[\"rok_zalozenia_cat\"]"
   ]
  },
  {
   "cell_type": "code",
   "execution_count": 166,
   "metadata": {},
   "outputs": [
    {
     "name": "stdout",
     "output_type": "stream",
     "text": [
      "Liczba szkół i placowek oświatowych mających ponad 100 lat: 1629\n"
     ]
    }
   ],
   "source": [
    "print(\n",
    "    \"Liczba szkół i placowek oświatowych mających ponad 100 lat: {}\".format(\n",
    "        df[df.school_age > 100][\"numer_rspo\"].count()\n",
    "    )\n",
    ")"
   ]
  },
  {
   "cell_type": "code",
   "execution_count": 167,
   "metadata": {},
   "outputs": [
    {
     "data": {
      "text/html": [
       "<div>\n",
       "<style scoped>\n",
       "    .dataframe tbody tr th:only-of-type {\n",
       "        vertical-align: middle;\n",
       "    }\n",
       "\n",
       "    .dataframe tbody tr th {\n",
       "        vertical-align: top;\n",
       "    }\n",
       "\n",
       "    .dataframe thead th {\n",
       "        text-align: right;\n",
       "    }\n",
       "</style>\n",
       "<table border=\"1\" class=\"dataframe\">\n",
       "  <thead>\n",
       "    <tr style=\"text-align: right;\">\n",
       "      <th></th>\n",
       "      <th>typ</th>\n",
       "      <th>nazwa</th>\n",
       "      <th>school_age</th>\n",
       "      <th>data_zalozenia</th>\n",
       "      <th>wojewodztwo</th>\n",
       "      <th>miejscowosc</th>\n",
       "    </tr>\n",
       "  </thead>\n",
       "  <tbody>\n",
       "    <tr>\n",
       "      <th>8063</th>\n",
       "      <td>Placówka Kształcenia Ustawicznego - bez szkół</td>\n",
       "      <td>FEDERACJA STOWARZYSZEŃ NAUKOWO- TECHNICZNYCH N...</td>\n",
       "      <td>440</td>\n",
       "      <td>1582-01-01</td>\n",
       "      <td>WIELKOPOLSKIE</td>\n",
       "      <td>Piła</td>\n",
       "    </tr>\n",
       "    <tr>\n",
       "      <th>10312</th>\n",
       "      <td>Liceum ogólnokształcące</td>\n",
       "      <td>LICEUM OGÓLNOKSZTAŁCĄCE ŚW. MARII MAGDALENY</td>\n",
       "      <td>440</td>\n",
       "      <td>1582-01-01</td>\n",
       "      <td>WIELKOPOLSKIE</td>\n",
       "      <td>Poznań</td>\n",
       "    </tr>\n",
       "    <tr>\n",
       "      <th>25097</th>\n",
       "      <td>Szkoła podstawowa</td>\n",
       "      <td>SZKOŁA PODSTAWOWA W BRAŃSKU</td>\n",
       "      <td>440</td>\n",
       "      <td>1582-01-01</td>\n",
       "      <td>PODLASKIE</td>\n",
       "      <td>Brańsk</td>\n",
       "    </tr>\n",
       "    <tr>\n",
       "      <th>31364</th>\n",
       "      <td>Szkoła podstawowa</td>\n",
       "      <td>SZKOŁA PODSTAWOWA W RZEGNOWIE</td>\n",
       "      <td>440</td>\n",
       "      <td>1582-01-01</td>\n",
       "      <td>MAZOWIECKIE</td>\n",
       "      <td>Rzęgnowo</td>\n",
       "    </tr>\n",
       "    <tr>\n",
       "      <th>35704</th>\n",
       "      <td>Szkoła podstawowa</td>\n",
       "      <td>SZKOŁA PODSTAWOWA NR 293 IM. JANA KOCHANOWSKIEGO</td>\n",
       "      <td>440</td>\n",
       "      <td>1582-01-01</td>\n",
       "      <td>MAZOWIECKIE</td>\n",
       "      <td>Bielany</td>\n",
       "    </tr>\n",
       "  </tbody>\n",
       "</table>\n",
       "</div>"
      ],
      "text/plain": [
       "                                                 typ  \\\n",
       "8063   Placówka Kształcenia Ustawicznego - bez szkół   \n",
       "10312                        Liceum ogólnokształcące   \n",
       "25097                              Szkoła podstawowa   \n",
       "31364                              Szkoła podstawowa   \n",
       "35704                              Szkoła podstawowa   \n",
       "\n",
       "                                                   nazwa  school_age  \\\n",
       "8063   FEDERACJA STOWARZYSZEŃ NAUKOWO- TECHNICZNYCH N...         440   \n",
       "10312        LICEUM OGÓLNOKSZTAŁCĄCE ŚW. MARII MAGDALENY         440   \n",
       "25097                        SZKOŁA PODSTAWOWA W BRAŃSKU         440   \n",
       "31364                      SZKOŁA PODSTAWOWA W RZEGNOWIE         440   \n",
       "35704   SZKOŁA PODSTAWOWA NR 293 IM. JANA KOCHANOWSKIEGO         440   \n",
       "\n",
       "      data_zalozenia    wojewodztwo miejscowosc  \n",
       "8063      1582-01-01  WIELKOPOLSKIE        Piła  \n",
       "10312     1582-01-01  WIELKOPOLSKIE      Poznań  \n",
       "25097     1582-01-01      PODLASKIE      Brańsk  \n",
       "31364     1582-01-01    MAZOWIECKIE    Rzęgnowo  \n",
       "35704     1582-01-01    MAZOWIECKIE     Bielany  "
      ]
     },
     "execution_count": 167,
     "metadata": {},
     "output_type": "execute_result"
    }
   ],
   "source": [
    "df.nlargest(5, columns=\"school_age\", keep=\"first\")[\n",
    "    [\"typ\", \"nazwa\", \"school_age\", \"data_zalozenia\", \"wojewodztwo\", \"miejscowosc\"]\n",
    "]"
   ]
  },
  {
   "cell_type": "code",
   "execution_count": 168,
   "metadata": {},
   "outputs": [],
   "source": [
    "age_max = df[\"school_age\"].max()\n",
    "\n",
    "step = 25\n",
    "\n",
    "\n",
    "def prep(x):\n",
    "\n",
    "    diff = range(0, age_max, step)\n",
    "    for i in diff:\n",
    "        if x >= i and x < i + step:\n",
    "            return i\n",
    "\n",
    "\n",
    "df[\"school_age_map\"] = df[\"school_age\"].map(prep)\n",
    "\n",
    "df[\"school_age_map\"] = df[\"school_age\"].map(lambda x: 150 if x >= 150 else x)"
   ]
  },
  {
   "cell_type": "code",
   "execution_count": 169,
   "metadata": {},
   "outputs": [
    {
     "name": "stdout",
     "output_type": "stream",
     "text": [
      "średni wiek szkoly: 28.47\n"
     ]
    }
   ],
   "source": [
    "school_avg_age = df.school_age.mean()\n",
    "print(\"średni wiek szkoly: {}\".format(round(school_avg_age, 2)))"
   ]
  },
  {
   "cell_type": "code",
   "execution_count": 170,
   "metadata": {},
   "outputs": [
    {
     "name": "stderr",
     "output_type": "stream",
     "text": [
      "/home/magdalena/Dokumenty/way-to-school/venv/lib/python3.9/site-packages/seaborn/distributions.py:2619: FutureWarning: `distplot` is a deprecated function and will be removed in a future version. Please adapt your code to use either `displot` (a figure-level function with similar flexibility) or `histplot` (an axes-level function for histograms).\n",
      "  warnings.warn(msg, FutureWarning)\n"
     ]
    },
    {
     "data": {
      "image/png": "[encoded data removed]",
      "text/plain": [
       "<Figure size 432x288 with 1 Axes>"
      ]
     },
     "metadata": {
      "needs_background": "light"
     },
     "output_type": "display_data"
    }
   ],
   "source": [
    "sns.distplot(df[\"school_age_map\"]);"
   ]
  },
  {
   "cell_type": "code",
   "execution_count": 171,
   "metadata": {},
   "outputs": [
    {
     "name": "stderr",
     "output_type": "stream",
     "text": [
      "/home/magdalena/Dokumenty/way-to-school/venv/lib/python3.9/site-packages/seaborn/distributions.py:2619: FutureWarning: `distplot` is a deprecated function and will be removed in a future version. Please adapt your code to use either `displot` (a figure-level function with similar flexibility) or `histplot` (an axes-level function for histograms).\n",
      "  warnings.warn(msg, FutureWarning)\n"
     ]
    },
    {
     "data": {
      "image/png": "[encoded data removed]",
      "text/plain": [
       "<Figure size 432x288 with 1 Axes>"
      ]
     },
     "metadata": {
      "needs_background": "light"
     },
     "output_type": "display_data"
    }
   ],
   "source": [
    "sns.distplot(df[df[\"rok_zalozenia_cat\"] >= 1900][\"rok_zalozenia_cat\"]);"
   ]
  },
  {
   "cell_type": "code",
   "execution_count": 172,
   "metadata": {},
   "outputs": [
    {
     "data": {
      "text/plain": [
       "<AxesSubplot:xlabel='school_age', ylabel='school_typ_cat'>"
      ]
     },
     "execution_count": 172,
     "metadata": {},
     "output_type": "execute_result"
    },
    {
     "data": {
      "image/png": "[encoded data removed]",
      "text/plain": [
       "<Figure size 432x288 with 1 Axes>"
      ]
     },
     "metadata": {
      "needs_background": "light"
     },
     "output_type": "display_data"
    }
   ],
   "source": [
    "sns.barplot(y=df[\"school_typ_cat\"], x=df[\"school_age\"])"
   ]
  },
  {
   "cell_type": "code",
   "execution_count": 173,
   "metadata": {},
   "outputs": [
    {
     "data": {
      "image/png": "[encoded data removed]",
      "text/plain": [
       "<Figure size 432x288 with 1 Axes>"
      ]
     },
     "metadata": {
      "needs_background": "light"
     },
     "output_type": "display_data"
    }
   ],
   "source": [
    "sns.stripplot(y=df[\"gmina_typ\"], x=df[\"school_age\"]);"
   ]
  },
  {
   "cell_type": "code",
   "execution_count": 174,
   "metadata": {},
   "outputs": [
    {
     "data": {
      "image/png": "[encoded data removed]",
      "text/plain": [
       "<Figure size 432x288 with 1 Axes>"
      ]
     },
     "metadata": {
      "needs_background": "light"
     },
     "output_type": "display_data"
    }
   ],
   "source": [
    "sns.stripplot(y=df[\"miejsce_w_strukturze\"], x=df[\"school_age\"]);"
   ]
  },
  {
   "cell_type": "code",
   "execution_count": 175,
   "metadata": {},
   "outputs": [
    {
     "data": {
      "image/png": "[encoded data removed]",
      "text/plain": [
       "<Figure size 432x288 with 1 Axes>"
      ]
     },
     "metadata": {
      "needs_background": "light"
     },
     "output_type": "display_data"
    }
   ],
   "source": [
    "sns.stripplot(y=df[\"typ_organu_prowadzacego\"], x=df[\"school_age\"]);"
   ]
  },
  {
   "cell_type": "code",
   "execution_count": 176,
   "metadata": {},
   "outputs": [
    {
     "data": {
      "image/png": "[encoded data removed]",
      "text/plain": [
       "<Figure size 432x288 with 1 Axes>"
      ]
     },
     "metadata": {
      "needs_background": "light"
     },
     "output_type": "display_data"
    }
   ],
   "source": [
    "sns.stripplot(y=df[\"rodzaj_miejscowosci\"], x=df[\"school_age\"]);"
   ]
  },
  {
   "cell_type": "code",
   "execution_count": 177,
   "metadata": {},
   "outputs": [
    {
     "data": {
      "image/png": "[encoded data removed]",
      "text/plain": [
       "<Figure size 432x288 with 1 Axes>"
      ]
     },
     "metadata": {
      "needs_background": "light"
     },
     "output_type": "display_data"
    }
   ],
   "source": [
    "sns.stripplot(y=df[\"publicznosc_status\"], x=df[\"school_age\"]);"
   ]
  },
  {
   "cell_type": "code",
   "execution_count": 178,
   "metadata": {},
   "outputs": [
    {
     "data": {
      "image/png": "[encoded data removed]",
      "text/plain": [
       "<Figure size 432x288 with 1 Axes>"
      ]
     },
     "metadata": {
      "needs_background": "light"
     },
     "output_type": "display_data"
    }
   ],
   "source": [
    "sns.stripplot(y=df[\"specyfika_placowki\"], x=df[\"school_age\"]);"
   ]
  },
  {
   "cell_type": "markdown",
   "metadata": {},
   "source": [
    "# Szkoły wg wojewodztwa"
   ]
  },
  {
   "cell_type": "code",
   "execution_count": 179,
   "metadata": {},
   "outputs": [],
   "source": [
    "df_agg_prov = (\n",
    "    df.groupby([\"wojewodztwo\"])\n",
    "    .agg(\n",
    "        school_count=(\"numer_rspo\", lambda x: len(set(x))),\n",
    "        area_ha_prov=(\"area_ha_prov\", \"max\"),\n",
    "        area_km_prov=(\"area_km_prov\", \"max\"),\n",
    "        powiat_count=(\"powiat\", lambda x: len(set(x))),\n",
    "        gmina_count=(\"gmina\", lambda x: len(set(x))),\n",
    "        population_total=(\"population_total_prov\", \"max\"),\n",
    "        population_per_km=(\"population_per_1km_prov\", \"max\"),\n",
    "        school_mean_age=(\"school_age\", \"mean\"),\n",
    "    )\n",
    "    .reset_index()\n",
    ")"
   ]
  },
  {
   "cell_type": "code",
   "execution_count": 180,
   "metadata": {},
   "outputs": [
    {
     "data": {
      "text/html": [
       "<div>\n",
       "<style scoped>\n",
       "    .dataframe tbody tr th:only-of-type {\n",
       "        vertical-align: middle;\n",
       "    }\n",
       "\n",
       "    .dataframe tbody tr th {\n",
       "        vertical-align: top;\n",
       "    }\n",
       "\n",
       "    .dataframe thead th {\n",
       "        text-align: right;\n",
       "    }\n",
       "</style>\n",
       "<table border=\"1\" class=\"dataframe\">\n",
       "  <thead>\n",
       "    <tr style=\"text-align: right;\">\n",
       "      <th></th>\n",
       "      <th>wojewodztwo</th>\n",
       "      <th>school_count</th>\n",
       "      <th>area_ha_prov</th>\n",
       "      <th>area_km_prov</th>\n",
       "      <th>powiat_count</th>\n",
       "      <th>gmina_count</th>\n",
       "      <th>population_total</th>\n",
       "      <th>population_per_km</th>\n",
       "      <th>school_mean_age</th>\n",
       "      <th>school_count_km</th>\n",
       "      <th>school_km_population_km</th>\n",
       "    </tr>\n",
       "  </thead>\n",
       "  <tbody>\n",
       "    <tr>\n",
       "      <th>14</th>\n",
       "      <td>ŚLĄSKIE</td>\n",
       "      <td>6133</td>\n",
       "      <td>1233309</td>\n",
       "      <td>12333</td>\n",
       "      <td>36</td>\n",
       "      <td>190</td>\n",
       "      <td>4492330</td>\n",
       "      <td>364</td>\n",
       "      <td>28.900701</td>\n",
       "      <td>0.497284</td>\n",
       "      <td>0.001366</td>\n",
       "    </tr>\n",
       "    <tr>\n",
       "      <th>5</th>\n",
       "      <td>MAŁOPOLSKIE</td>\n",
       "      <td>5458</td>\n",
       "      <td>1518279</td>\n",
       "      <td>15183</td>\n",
       "      <td>22</td>\n",
       "      <td>232</td>\n",
       "      <td>3410441</td>\n",
       "      <td>225</td>\n",
       "      <td>32.219311</td>\n",
       "      <td>0.359481</td>\n",
       "      <td>0.001598</td>\n",
       "    </tr>\n",
       "    <tr>\n",
       "      <th>4</th>\n",
       "      <td>MAZOWIECKIE</td>\n",
       "      <td>7935</td>\n",
       "      <td>3555847</td>\n",
       "      <td>35559</td>\n",
       "      <td>42</td>\n",
       "      <td>389</td>\n",
       "      <td>5425028</td>\n",
       "      <td>153</td>\n",
       "      <td>26.887461</td>\n",
       "      <td>0.223150</td>\n",
       "      <td>0.001458</td>\n",
       "    </tr>\n",
       "    <tr>\n",
       "      <th>7</th>\n",
       "      <td>PODKARPACKIE</td>\n",
       "      <td>3487</td>\n",
       "      <td>1784576</td>\n",
       "      <td>17846</td>\n",
       "      <td>25</td>\n",
       "      <td>194</td>\n",
       "      <td>2121229</td>\n",
       "      <td>119</td>\n",
       "      <td>36.847433</td>\n",
       "      <td>0.195394</td>\n",
       "      <td>0.001642</td>\n",
       "    </tr>\n",
       "    <tr>\n",
       "      <th>0</th>\n",
       "      <td>DOLNOŚLĄSKIE</td>\n",
       "      <td>3791</td>\n",
       "      <td>1994670</td>\n",
       "      <td>19947</td>\n",
       "      <td>30</td>\n",
       "      <td>227</td>\n",
       "      <td>2891321</td>\n",
       "      <td>145</td>\n",
       "      <td>24.389871</td>\n",
       "      <td>0.190054</td>\n",
       "      <td>0.001311</td>\n",
       "    </tr>\n",
       "    <tr>\n",
       "      <th>13</th>\n",
       "      <td>ŁÓDZKIE</td>\n",
       "      <td>3401</td>\n",
       "      <td>1821895</td>\n",
       "      <td>18219</td>\n",
       "      <td>24</td>\n",
       "      <td>212</td>\n",
       "      <td>2437970</td>\n",
       "      <td>134</td>\n",
       "      <td>28.473096</td>\n",
       "      <td>0.186673</td>\n",
       "      <td>0.001393</td>\n",
       "    </tr>\n",
       "    <tr>\n",
       "      <th>9</th>\n",
       "      <td>POMORSKIE</td>\n",
       "      <td>3345</td>\n",
       "      <td>1832368</td>\n",
       "      <td>18323</td>\n",
       "      <td>20</td>\n",
       "      <td>140</td>\n",
       "      <td>2346671</td>\n",
       "      <td>128</td>\n",
       "      <td>24.469357</td>\n",
       "      <td>0.182557</td>\n",
       "      <td>0.001426</td>\n",
       "    </tr>\n",
       "    <tr>\n",
       "      <th>11</th>\n",
       "      <td>WIELKOPOLSKIE</td>\n",
       "      <td>5254</td>\n",
       "      <td>2982650</td>\n",
       "      <td>29826</td>\n",
       "      <td>35</td>\n",
       "      <td>325</td>\n",
       "      <td>3496450</td>\n",
       "      <td>117</td>\n",
       "      <td>28.143319</td>\n",
       "      <td>0.176155</td>\n",
       "      <td>0.001506</td>\n",
       "    </tr>\n",
       "    <tr>\n",
       "      <th>15</th>\n",
       "      <td>ŚWIĘTOKRZYSKIE</td>\n",
       "      <td>1981</td>\n",
       "      <td>1171050</td>\n",
       "      <td>11710</td>\n",
       "      <td>14</td>\n",
       "      <td>141</td>\n",
       "      <td>1224626</td>\n",
       "      <td>105</td>\n",
       "      <td>26.399293</td>\n",
       "      <td>0.169172</td>\n",
       "      <td>0.001611</td>\n",
       "    </tr>\n",
       "    <tr>\n",
       "      <th>6</th>\n",
       "      <td>OPOLSKIE</td>\n",
       "      <td>1544</td>\n",
       "      <td>941187</td>\n",
       "      <td>9412</td>\n",
       "      <td>12</td>\n",
       "      <td>102</td>\n",
       "      <td>976774</td>\n",
       "      <td>104</td>\n",
       "      <td>26.584197</td>\n",
       "      <td>0.164046</td>\n",
       "      <td>0.001577</td>\n",
       "    </tr>\n",
       "    <tr>\n",
       "      <th>1</th>\n",
       "      <td>KUJAWSKO-POMORSKIE</td>\n",
       "      <td>2822</td>\n",
       "      <td>1797134</td>\n",
       "      <td>17971</td>\n",
       "      <td>23</td>\n",
       "      <td>177</td>\n",
       "      <td>2061942</td>\n",
       "      <td>115</td>\n",
       "      <td>26.509213</td>\n",
       "      <td>0.157031</td>\n",
       "      <td>0.001365</td>\n",
       "    </tr>\n",
       "    <tr>\n",
       "      <th>2</th>\n",
       "      <td>LUBELSKIE</td>\n",
       "      <td>3205</td>\n",
       "      <td>2512246</td>\n",
       "      <td>25123</td>\n",
       "      <td>24</td>\n",
       "      <td>241</td>\n",
       "      <td>2095258</td>\n",
       "      <td>83</td>\n",
       "      <td>30.902028</td>\n",
       "      <td>0.127572</td>\n",
       "      <td>0.001537</td>\n",
       "    </tr>\n",
       "    <tr>\n",
       "      <th>3</th>\n",
       "      <td>LUBUSKIE</td>\n",
       "      <td>1390</td>\n",
       "      <td>1398793</td>\n",
       "      <td>13988</td>\n",
       "      <td>14</td>\n",
       "      <td>113</td>\n",
       "      <td>1007145</td>\n",
       "      <td>72</td>\n",
       "      <td>28.163309</td>\n",
       "      <td>0.099371</td>\n",
       "      <td>0.001380</td>\n",
       "    </tr>\n",
       "    <tr>\n",
       "      <th>12</th>\n",
       "      <td>ZACHODNIOPOMORSKIE</td>\n",
       "      <td>2209</td>\n",
       "      <td>2290472</td>\n",
       "      <td>22905</td>\n",
       "      <td>21</td>\n",
       "      <td>162</td>\n",
       "      <td>1688047</td>\n",
       "      <td>74</td>\n",
       "      <td>27.962426</td>\n",
       "      <td>0.096442</td>\n",
       "      <td>0.001303</td>\n",
       "    </tr>\n",
       "    <tr>\n",
       "      <th>10</th>\n",
       "      <td>WARMIŃSKO-MAZURSKIE</td>\n",
       "      <td>2129</td>\n",
       "      <td>2417347</td>\n",
       "      <td>24173</td>\n",
       "      <td>21</td>\n",
       "      <td>146</td>\n",
       "      <td>1416495</td>\n",
       "      <td>59</td>\n",
       "      <td>27.004227</td>\n",
       "      <td>0.088073</td>\n",
       "      <td>0.001493</td>\n",
       "    </tr>\n",
       "    <tr>\n",
       "      <th>8</th>\n",
       "      <td>PODLASKIE</td>\n",
       "      <td>1646</td>\n",
       "      <td>2018702</td>\n",
       "      <td>20187</td>\n",
       "      <td>17</td>\n",
       "      <td>140</td>\n",
       "      <td>1173286</td>\n",
       "      <td>58</td>\n",
       "      <td>28.488457</td>\n",
       "      <td>0.081538</td>\n",
       "      <td>0.001406</td>\n",
       "    </tr>\n",
       "  </tbody>\n",
       "</table>\n",
       "</div>"
      ],
      "text/plain": [
       "            wojewodztwo  school_count  area_ha_prov  area_km_prov  \\\n",
       "14              ŚLĄSKIE          6133       1233309         12333   \n",
       "5           MAŁOPOLSKIE          5458       1518279         15183   \n",
       "4           MAZOWIECKIE          7935       3555847         35559   \n",
       "7          PODKARPACKIE          3487       1784576         17846   \n",
       "0          DOLNOŚLĄSKIE          3791       1994670         19947   \n",
       "13              ŁÓDZKIE          3401       1821895         18219   \n",
       "9             POMORSKIE          3345       1832368         18323   \n",
       "11        WIELKOPOLSKIE          5254       2982650         29826   \n",
       "15       ŚWIĘTOKRZYSKIE          1981       1171050         11710   \n",
       "6              OPOLSKIE          1544        941187          9412   \n",
       "1    KUJAWSKO-POMORSKIE          2822       1797134         17971   \n",
       "2             LUBELSKIE          3205       2512246         25123   \n",
       "3              LUBUSKIE          1390       1398793         13988   \n",
       "12   ZACHODNIOPOMORSKIE          2209       2290472         22905   \n",
       "10  WARMIŃSKO-MAZURSKIE          2129       2417347         24173   \n",
       "8             PODLASKIE          1646       2018702         20187   \n",
       "\n",
       "    powiat_count  gmina_count  population_total  population_per_km  \\\n",
       "14            36          190           4492330                364   \n",
       "5             22          232           3410441                225   \n",
       "4             42          389           5425028                153   \n",
       "7             25          194           2121229                119   \n",
       "0             30          227           2891321                145   \n",
       "13            24          212           2437970                134   \n",
       "9             20          140           2346671                128   \n",
       "11            35          325           3496450                117   \n",
       "15            14          141           1224626                105   \n",
       "6             12          102            976774                104   \n",
       "1             23          177           2061942                115   \n",
       "2             24          241           2095258                 83   \n",
       "3             14          113           1007145                 72   \n",
       "12            21          162           1688047                 74   \n",
       "10            21          146           1416495                 59   \n",
       "8             17          140           1173286                 58   \n",
       "\n",
       "    school_mean_age  school_count_km  school_km_population_km  \n",
       "14        28.900701         0.497284                 0.001366  \n",
       "5         32.219311         0.359481                 0.001598  \n",
       "4         26.887461         0.223150                 0.001458  \n",
       "7         36.847433         0.195394                 0.001642  \n",
       "0         24.389871         0.190054                 0.001311  \n",
       "13        28.473096         0.186673                 0.001393  \n",
       "9         24.469357         0.182557                 0.001426  \n",
       "11        28.143319         0.176155                 0.001506  \n",
       "15        26.399293         0.169172                 0.001611  \n",
       "6         26.584197         0.164046                 0.001577  \n",
       "1         26.509213         0.157031                 0.001365  \n",
       "2         30.902028         0.127572                 0.001537  \n",
       "3         28.163309         0.099371                 0.001380  \n",
       "12        27.962426         0.096442                 0.001303  \n",
       "10        27.004227         0.088073                 0.001493  \n",
       "8         28.488457         0.081538                 0.001406  "
      ]
     },
     "execution_count": 180,
     "metadata": {},
     "output_type": "execute_result"
    }
   ],
   "source": [
    "df_agg_prov[\"school_count_km\"] = df_agg_prov[\"school_count\"] / df_agg_prov[\"area_km_prov\"]\n",
    "df_agg_prov[\"school_km_population_km\"] = df_agg_prov[\"school_count_km\"] / df_agg_prov[\"population_per_km\"]\n",
    "\n",
    "\n",
    "df_agg_prov.sort_values(by=\"school_count_km\", ascending=False)"
   ]
  },
  {
   "cell_type": "code",
   "execution_count": 181,
   "metadata": {},
   "outputs": [
    {
     "name": "stdout",
     "output_type": "stream",
     "text": [
      "średnia ilosc szkół wg province: 3483.0\n"
     ]
    }
   ],
   "source": [
    "school_mean = df_agg_prov.school_count.mean()\n",
    "print(\"średnia ilosc szkół wg province: {}\".format(round(school_mean, 0)))"
   ]
  },
  {
   "cell_type": "code",
   "execution_count": 182,
   "metadata": {},
   "outputs": [],
   "source": [
    "df[\"school_mean\"] = school_mean"
   ]
  },
  {
   "cell_type": "code",
   "execution_count": 183,
   "metadata": {},
   "outputs": [
    {
     "data": {
      "image/png": "[encoded data removed]",
      "text/plain": [
       "<Figure size 1080x720 with 1 Axes>"
      ]
     },
     "metadata": {
      "needs_background": "light"
     },
     "output_type": "display_data"
    }
   ],
   "source": [
    "ax = plt.gca()\n",
    "df.groupby([\"wojewodztwo\"])[\"school_mean\"].max().transpose().plot(\n",
    "    x=\"school_mean\", y=\"wojewodztwo\", kind=\"line\", figsize=(15, 10), ax=ax, color=\"red\"\n",
    ")\n",
    "df.groupby([\"wojewodztwo\"])[\"numer_rspo\"].count().sort_values(ascending=True).plot(kind=\"bar\", figsize=(15, 10), ax=ax)\n",
    "plt.show();"
   ]
  },
  {
   "cell_type": "code",
   "execution_count": 184,
   "metadata": {},
   "outputs": [],
   "source": [
    "df[\"school_mean_age\"] = df.school_age.mean()"
   ]
  },
  {
   "cell_type": "code",
   "execution_count": 185,
   "metadata": {},
   "outputs": [
    {
     "data": {
      "image/png": "[encoded data removed]",
      "text/plain": [
       "<Figure size 1080x720 with 1 Axes>"
      ]
     },
     "metadata": {
      "needs_background": "light"
     },
     "output_type": "display_data"
    }
   ],
   "source": [
    "ax = plt.gca()\n",
    "df.groupby([\"wojewodztwo\"])[\"school_mean_age\"].max().plot(\n",
    "    x=\"school_mean_age\", y=\"wojewodztwo\", kind=\"line\", figsize=(15, 10), ax=ax, color=\"red\"\n",
    ")\n",
    "df_agg_prov[[\"wojewodztwo\", \"school_mean_age\"]].sort_values(by=\"school_mean_age\", ascending=True).plot(\n",
    "    x=\"wojewodztwo\", y=\"school_mean_age\", kind=\"bar\", figsize=(15, 10), ax=ax\n",
    ")\n",
    "plt.show();"
   ]
  },
  {
   "cell_type": "code",
   "execution_count": 186,
   "metadata": {},
   "outputs": [
    {
     "data": {
      "text/plain": [
       "Index(['typ', 'wojewodztwo', 'rodzaj_miejscowosci', 'publicznosc_status',\n",
       "       'kategoria_uczniow', 'specyfika_placowki', 'typ_organu_prowadzacego',\n",
       "       'wojewodztwo_organu_prowadzacego', 'miejsce_w_strukturze',\n",
       "       'typ_podmiotu_nadrzednego', 'gmina_typ', 'school_typ_cat'],\n",
       "      dtype='object')"
      ]
     },
     "execution_count": 186,
     "metadata": {},
     "output_type": "execute_result"
    }
   ],
   "source": [
    "df.select_dtypes(\"category\").columns"
   ]
  },
  {
   "cell_type": "code",
   "execution_count": 187,
   "metadata": {},
   "outputs": [],
   "source": [
    "def prep_wykres_per_prov(typ):\n",
    "    df_agg_prov_specyfika = (\n",
    "        df.groupby([\"wojewodztwo\", typ]).agg(school_count=(\"numer_rspo\", lambda x: len(set(x)))).reset_index()\n",
    "    )\n",
    "\n",
    "    sns.barplot(x=\"school_count\", y=\"wojewodztwo\", data=df_agg_prov_specyfika, hue=typ);"
   ]
  },
  {
   "cell_type": "code",
   "execution_count": 188,
   "metadata": {},
   "outputs": [
    {
     "data": {
      "image/png": "[encoded data removed]",
      "text/plain": [
       "<Figure size 432x288 with 1 Axes>"
      ]
     },
     "metadata": {
      "needs_background": "light"
     },
     "output_type": "display_data"
    }
   ],
   "source": [
    "prep_wykres_per_prov(\"gmina_typ\")"
   ]
  },
  {
   "cell_type": "code",
   "execution_count": 189,
   "metadata": {},
   "outputs": [
    {
     "data": {
      "image/png": "[encoded data removed]",
      "text/plain": [
       "<Figure size 432x288 with 1 Axes>"
      ]
     },
     "metadata": {
      "needs_background": "light"
     },
     "output_type": "display_data"
    }
   ],
   "source": [
    "prep_wykres_per_prov(\"rodzaj_miejscowosci\")"
   ]
  },
  {
   "cell_type": "code",
   "execution_count": 190,
   "metadata": {},
   "outputs": [
    {
     "data": {
      "image/png": "[encoded data removed]",
      "text/plain": [
       "<Figure size 432x288 with 1 Axes>"
      ]
     },
     "metadata": {
      "needs_background": "light"
     },
     "output_type": "display_data"
    }
   ],
   "source": [
    "prep_wykres_per_prov(\"publicznosc_status\")"
   ]
  },
  {
   "cell_type": "code",
   "execution_count": 191,
   "metadata": {},
   "outputs": [
    {
     "data": {
      "image/png": "[encoded data removed]",
      "text/plain": [
       "<Figure size 432x288 with 1 Axes>"
      ]
     },
     "metadata": {
      "needs_background": "light"
     },
     "output_type": "display_data"
    }
   ],
   "source": [
    "prep_wykres_per_prov(\"specyfika_placowki\")"
   ]
  },
  {
   "cell_type": "code",
   "execution_count": 192,
   "metadata": {},
   "outputs": [
    {
     "data": {
      "image/png": "[encoded data removed]",
      "text/plain": [
       "<Figure size 432x288 with 1 Axes>"
      ]
     },
     "metadata": {
      "needs_background": "light"
     },
     "output_type": "display_data"
    }
   ],
   "source": [
    "prep_wykres_per_prov(\"miejsce_w_strukturze\")"
   ]
  },
  {
   "cell_type": "markdown",
   "metadata": {},
   "source": [
    "# Powiaty"
   ]
  },
  {
   "cell_type": "code",
   "execution_count": 193,
   "metadata": {},
   "outputs": [],
   "source": [
    "df_agg_dist = (\n",
    "    df.groupby([\"powiat\", \"wojewodztwo\"])\n",
    "    .agg(\n",
    "        school_count=(\"numer_rspo\", lambda x: len(set(x))),\n",
    "        area_ha_prov=(\"area_ha_prov\", \"max\"),\n",
    "        area_km_prov=(\"area_km_prov\", \"max\"),\n",
    "        area_km_dist=(\"area_km_dist\", \"max\"),\n",
    "        gmina_count=(\"gmina\", lambda x: len(set(x))),\n",
    "        population_total_prov=(\"population_total_prov\", \"max\"),\n",
    "        population_per_km_prov=(\"population_per_1km_prov\", \"max\"),\n",
    "        population_total_dist=(\"population_total_dist\", \"max\"),\n",
    "        population_per_km_dist=(\"population_per_1km_dist\", \"max\"),\n",
    "    )\n",
    "    .reset_index()\n",
    ")\n",
    "\n",
    "df_agg_dist[\"school_count_area\"] = df_agg_dist[\"school_count\"] / df_agg_dist[\"area_km_dist\"]"
   ]
  },
  {
   "cell_type": "code",
   "execution_count": 194,
   "metadata": {},
   "outputs": [
    {
     "data": {
      "text/html": [
       "<div>\n",
       "<style scoped>\n",
       "    .dataframe tbody tr th:only-of-type {\n",
       "        vertical-align: middle;\n",
       "    }\n",
       "\n",
       "    .dataframe tbody tr th {\n",
       "        vertical-align: top;\n",
       "    }\n",
       "\n",
       "    .dataframe thead th {\n",
       "        text-align: right;\n",
       "    }\n",
       "</style>\n",
       "<table border=\"1\" class=\"dataframe\">\n",
       "  <thead>\n",
       "    <tr style=\"text-align: right;\">\n",
       "      <th></th>\n",
       "      <th>powiat</th>\n",
       "      <th>wojewodztwo</th>\n",
       "      <th>school_count</th>\n",
       "      <th>area_ha_prov</th>\n",
       "      <th>area_km_prov</th>\n",
       "      <th>area_km_dist</th>\n",
       "      <th>gmina_count</th>\n",
       "      <th>population_total_prov</th>\n",
       "      <th>population_per_km_prov</th>\n",
       "      <th>population_total_dist</th>\n",
       "      <th>population_per_km_dist</th>\n",
       "      <th>school_count_area</th>\n",
       "    </tr>\n",
       "  </thead>\n",
       "  <tbody>\n",
       "    <tr>\n",
       "      <th>4264</th>\n",
       "      <td>sejneński</td>\n",
       "      <td>PODLASKIE</td>\n",
       "      <td>26.0</td>\n",
       "      <td>2018702.0</td>\n",
       "      <td>20187.0</td>\n",
       "      <td>855.0</td>\n",
       "      <td>5.0</td>\n",
       "      <td>1173286.0</td>\n",
       "      <td>58.0</td>\n",
       "      <td>19689.0</td>\n",
       "      <td>23.0</td>\n",
       "      <td>0.030409</td>\n",
       "    </tr>\n",
       "    <tr>\n",
       "      <th>1976</th>\n",
       "      <td>hajnowski</td>\n",
       "      <td>PODLASKIE</td>\n",
       "      <td>50.0</td>\n",
       "      <td>2018702.0</td>\n",
       "      <td>20187.0</td>\n",
       "      <td>1624.0</td>\n",
       "      <td>9.0</td>\n",
       "      <td>1173286.0</td>\n",
       "      <td>58.0</td>\n",
       "      <td>41991.0</td>\n",
       "      <td>26.0</td>\n",
       "      <td>0.030788</td>\n",
       "    </tr>\n",
       "    <tr>\n",
       "      <th>4600</th>\n",
       "      <td>suwalski</td>\n",
       "      <td>PODLASKIE</td>\n",
       "      <td>43.0</td>\n",
       "      <td>2018702.0</td>\n",
       "      <td>20187.0</td>\n",
       "      <td>1307.0</td>\n",
       "      <td>9.0</td>\n",
       "      <td>1173286.0</td>\n",
       "      <td>58.0</td>\n",
       "      <td>35577.0</td>\n",
       "      <td>27.0</td>\n",
       "      <td>0.032900</td>\n",
       "    </tr>\n",
       "    <tr>\n",
       "      <th>1143</th>\n",
       "      <td>bieszczadzki</td>\n",
       "      <td>PODKARPACKIE</td>\n",
       "      <td>38.0</td>\n",
       "      <td>1784576.0</td>\n",
       "      <td>17846.0</td>\n",
       "      <td>1139.0</td>\n",
       "      <td>4.0</td>\n",
       "      <td>2121229.0</td>\n",
       "      <td>119.0</td>\n",
       "      <td>21489.0</td>\n",
       "      <td>19.0</td>\n",
       "      <td>0.033363</td>\n",
       "    </tr>\n",
       "    <tr>\n",
       "      <th>4563</th>\n",
       "      <td>sulęciński</td>\n",
       "      <td>LUBUSKIE</td>\n",
       "      <td>42.0</td>\n",
       "      <td>1398793.0</td>\n",
       "      <td>13988.0</td>\n",
       "      <td>1178.0</td>\n",
       "      <td>7.0</td>\n",
       "      <td>1007145.0</td>\n",
       "      <td>72.0</td>\n",
       "      <td>35000.0</td>\n",
       "      <td>30.0</td>\n",
       "      <td>0.035654</td>\n",
       "    </tr>\n",
       "    <tr>\n",
       "      <th>1610</th>\n",
       "      <td>elbląski</td>\n",
       "      <td>WARMIŃSKO-MAZURSKIE</td>\n",
       "      <td>53.0</td>\n",
       "      <td>2417347.0</td>\n",
       "      <td>24173.0</td>\n",
       "      <td>1416.0</td>\n",
       "      <td>12.0</td>\n",
       "      <td>1416495.0</td>\n",
       "      <td>59.0</td>\n",
       "      <td>56986.0</td>\n",
       "      <td>40.0</td>\n",
       "      <td>0.037429</td>\n",
       "    </tr>\n",
       "    <tr>\n",
       "      <th>5564</th>\n",
       "      <td>łobeski</td>\n",
       "      <td>ZACHODNIOPOMORSKIE</td>\n",
       "      <td>41.0</td>\n",
       "      <td>2290472.0</td>\n",
       "      <td>22905.0</td>\n",
       "      <td>1065.0</td>\n",
       "      <td>9.0</td>\n",
       "      <td>1688047.0</td>\n",
       "      <td>74.0</td>\n",
       "      <td>36486.0</td>\n",
       "      <td>34.0</td>\n",
       "      <td>0.038498</td>\n",
       "    </tr>\n",
       "    <tr>\n",
       "      <th>3064</th>\n",
       "      <td>moniecki</td>\n",
       "      <td>PODLASKIE</td>\n",
       "      <td>54.0</td>\n",
       "      <td>2018702.0</td>\n",
       "      <td>20187.0</td>\n",
       "      <td>1382.0</td>\n",
       "      <td>10.0</td>\n",
       "      <td>1173286.0</td>\n",
       "      <td>58.0</td>\n",
       "      <td>40070.0</td>\n",
       "      <td>29.0</td>\n",
       "      <td>0.039074</td>\n",
       "    </tr>\n",
       "    <tr>\n",
       "      <th>2348</th>\n",
       "      <td>koszaliński</td>\n",
       "      <td>ZACHODNIOPOMORSKIE</td>\n",
       "      <td>65.0</td>\n",
       "      <td>2290472.0</td>\n",
       "      <td>22905.0</td>\n",
       "      <td>1653.0</td>\n",
       "      <td>12.0</td>\n",
       "      <td>1688047.0</td>\n",
       "      <td>74.0</td>\n",
       "      <td>66505.0</td>\n",
       "      <td>40.0</td>\n",
       "      <td>0.039322</td>\n",
       "    </tr>\n",
       "    <tr>\n",
       "      <th>1096</th>\n",
       "      <td>białostocki</td>\n",
       "      <td>PODLASKIE</td>\n",
       "      <td>118.0</td>\n",
       "      <td>2018702.0</td>\n",
       "      <td>20187.0</td>\n",
       "      <td>2975.0</td>\n",
       "      <td>22.0</td>\n",
       "      <td>1173286.0</td>\n",
       "      <td>58.0</td>\n",
       "      <td>150845.0</td>\n",
       "      <td>51.0</td>\n",
       "      <td>0.039664</td>\n",
       "    </tr>\n",
       "  </tbody>\n",
       "</table>\n",
       "</div>"
      ],
      "text/plain": [
       "            powiat          wojewodztwo  school_count  area_ha_prov  \\\n",
       "4264     sejneński            PODLASKIE          26.0     2018702.0   \n",
       "1976     hajnowski            PODLASKIE          50.0     2018702.0   \n",
       "4600      suwalski            PODLASKIE          43.0     2018702.0   \n",
       "1143  bieszczadzki         PODKARPACKIE          38.0     1784576.0   \n",
       "4563    sulęciński             LUBUSKIE          42.0     1398793.0   \n",
       "1610      elbląski  WARMIŃSKO-MAZURSKIE          53.0     2417347.0   \n",
       "5564       łobeski   ZACHODNIOPOMORSKIE          41.0     2290472.0   \n",
       "3064      moniecki            PODLASKIE          54.0     2018702.0   \n",
       "2348   koszaliński   ZACHODNIOPOMORSKIE          65.0     2290472.0   \n",
       "1096   białostocki            PODLASKIE         118.0     2018702.0   \n",
       "\n",
       "      area_km_prov  area_km_dist  gmina_count  population_total_prov  \\\n",
       "4264       20187.0         855.0          5.0              1173286.0   \n",
       "1976       20187.0        1624.0          9.0              1173286.0   \n",
       "4600       20187.0        1307.0          9.0              1173286.0   \n",
       "1143       17846.0        1139.0          4.0              2121229.0   \n",
       "4563       13988.0        1178.0          7.0              1007145.0   \n",
       "1610       24173.0        1416.0         12.0              1416495.0   \n",
       "5564       22905.0        1065.0          9.0              1688047.0   \n",
       "3064       20187.0        1382.0         10.0              1173286.0   \n",
       "2348       22905.0        1653.0         12.0              1688047.0   \n",
       "1096       20187.0        2975.0         22.0              1173286.0   \n",
       "\n",
       "      population_per_km_prov  population_total_dist  population_per_km_dist  \\\n",
       "4264                    58.0                19689.0                    23.0   \n",
       "1976                    58.0                41991.0                    26.0   \n",
       "4600                    58.0                35577.0                    27.0   \n",
       "1143                   119.0                21489.0                    19.0   \n",
       "4563                    72.0                35000.0                    30.0   \n",
       "1610                    59.0                56986.0                    40.0   \n",
       "5564                    74.0                36486.0                    34.0   \n",
       "3064                    58.0                40070.0                    29.0   \n",
       "2348                    74.0                66505.0                    40.0   \n",
       "1096                    58.0               150845.0                    51.0   \n",
       "\n",
       "      school_count_area  \n",
       "4264           0.030409  \n",
       "1976           0.030788  \n",
       "4600           0.032900  \n",
       "1143           0.033363  \n",
       "4563           0.035654  \n",
       "1610           0.037429  \n",
       "5564           0.038498  \n",
       "3064           0.039074  \n",
       "2348           0.039322  \n",
       "1096           0.039664  "
      ]
     },
     "execution_count": 194,
     "metadata": {},
     "output_type": "execute_result"
    }
   ],
   "source": [
    "df_agg_dist.sort_values(by=\"school_count_area\", ascending=True)[:10]"
   ]
  },
  {
   "cell_type": "code",
   "execution_count": 195,
   "metadata": {},
   "outputs": [
    {
     "data": {
      "text/html": [
       "<div>\n",
       "<style scoped>\n",
       "    .dataframe tbody tr th:only-of-type {\n",
       "        vertical-align: middle;\n",
       "    }\n",
       "\n",
       "    .dataframe tbody tr th {\n",
       "        vertical-align: top;\n",
       "    }\n",
       "\n",
       "    .dataframe thead th {\n",
       "        text-align: right;\n",
       "    }\n",
       "</style>\n",
       "<table border=\"1\" class=\"dataframe\">\n",
       "  <thead>\n",
       "    <tr style=\"text-align: right;\">\n",
       "      <th></th>\n",
       "      <th>powiat</th>\n",
       "      <th>wojewodztwo</th>\n",
       "      <th>school_count</th>\n",
       "      <th>area_ha_prov</th>\n",
       "      <th>area_km_prov</th>\n",
       "      <th>area_km_dist</th>\n",
       "      <th>gmina_count</th>\n",
       "      <th>population_total_prov</th>\n",
       "      <th>population_per_km_prov</th>\n",
       "      <th>population_total_dist</th>\n",
       "      <th>population_per_km_dist</th>\n",
       "      <th>school_count_area</th>\n",
       "    </tr>\n",
       "  </thead>\n",
       "  <tbody>\n",
       "    <tr>\n",
       "      <th>868</th>\n",
       "      <td>Warszawa</td>\n",
       "      <td>MAZOWIECKIE</td>\n",
       "      <td>2627.0</td>\n",
       "      <td>3555847.0</td>\n",
       "      <td>35559.0</td>\n",
       "      <td>517.0</td>\n",
       "      <td>19.0</td>\n",
       "      <td>5425028.0</td>\n",
       "      <td>153.0</td>\n",
       "      <td>1794166.0</td>\n",
       "      <td>3469.0</td>\n",
       "      <td>5.081238</td>\n",
       "    </tr>\n",
       "    <tr>\n",
       "      <th>24</th>\n",
       "      <td>Białystok</td>\n",
       "      <td>PODLASKIE</td>\n",
       "      <td>499.0</td>\n",
       "      <td>2018702.0</td>\n",
       "      <td>20187.0</td>\n",
       "      <td>102.0</td>\n",
       "      <td>1.0</td>\n",
       "      <td>1173286.0</td>\n",
       "      <td>58.0</td>\n",
       "      <td>296958.0</td>\n",
       "      <td>2908.0</td>\n",
       "      <td>4.892157</td>\n",
       "    </tr>\n",
       "    <tr>\n",
       "      <th>946</th>\n",
       "      <td>Zamość</td>\n",
       "      <td>LUBELSKIE</td>\n",
       "      <td>136.0</td>\n",
       "      <td>2512246.0</td>\n",
       "      <td>25123.0</td>\n",
       "      <td>30.0</td>\n",
       "      <td>1.0</td>\n",
       "      <td>2095258.0</td>\n",
       "      <td>83.0</td>\n",
       "      <td>62785.0</td>\n",
       "      <td>2069.0</td>\n",
       "      <td>4.533333</td>\n",
       "    </tr>\n",
       "    <tr>\n",
       "      <th>676</th>\n",
       "      <td>Siedlce</td>\n",
       "      <td>MAZOWIECKIE</td>\n",
       "      <td>145.0</td>\n",
       "      <td>3555847.0</td>\n",
       "      <td>35559.0</td>\n",
       "      <td>32.0</td>\n",
       "      <td>1.0</td>\n",
       "      <td>5425028.0</td>\n",
       "      <td>153.0</td>\n",
       "      <td>77813.0</td>\n",
       "      <td>2442.0</td>\n",
       "      <td>4.531250</td>\n",
       "    </tr>\n",
       "    <tr>\n",
       "      <th>110</th>\n",
       "      <td>Chorzów</td>\n",
       "      <td>ŚLĄSKIE</td>\n",
       "      <td>144.0</td>\n",
       "      <td>1233309.0</td>\n",
       "      <td>12333.0</td>\n",
       "      <td>33.0</td>\n",
       "      <td>1.0</td>\n",
       "      <td>4492330.0</td>\n",
       "      <td>364.0</td>\n",
       "      <td>106846.0</td>\n",
       "      <td>3214.0</td>\n",
       "      <td>4.363636</td>\n",
       "    </tr>\n",
       "  </tbody>\n",
       "</table>\n",
       "</div>"
      ],
      "text/plain": [
       "        powiat  wojewodztwo  school_count  area_ha_prov  area_km_prov  \\\n",
       "868   Warszawa  MAZOWIECKIE        2627.0     3555847.0       35559.0   \n",
       "24   Białystok    PODLASKIE         499.0     2018702.0       20187.0   \n",
       "946     Zamość    LUBELSKIE         136.0     2512246.0       25123.0   \n",
       "676    Siedlce  MAZOWIECKIE         145.0     3555847.0       35559.0   \n",
       "110    Chorzów      ŚLĄSKIE         144.0     1233309.0       12333.0   \n",
       "\n",
       "     area_km_dist  gmina_count  population_total_prov  population_per_km_prov  \\\n",
       "868         517.0         19.0              5425028.0                   153.0   \n",
       "24          102.0          1.0              1173286.0                    58.0   \n",
       "946          30.0          1.0              2095258.0                    83.0   \n",
       "676          32.0          1.0              5425028.0                   153.0   \n",
       "110          33.0          1.0              4492330.0                   364.0   \n",
       "\n",
       "     population_total_dist  population_per_km_dist  school_count_area  \n",
       "868              1794166.0                  3469.0           5.081238  \n",
       "24                296958.0                  2908.0           4.892157  \n",
       "946                62785.0                  2069.0           4.533333  \n",
       "676                77813.0                  2442.0           4.531250  \n",
       "110               106846.0                  3214.0           4.363636  "
      ]
     },
     "execution_count": 195,
     "metadata": {},
     "output_type": "execute_result"
    }
   ],
   "source": [
    "df_agg_dist.sort_values(by=\"school_count_area\", ascending=False)[:5]"
   ]
  },
  {
   "cell_type": "code",
   "execution_count": null,
   "metadata": {},
   "outputs": [],
   "source": []
  }
 ],
 "metadata": {
  "interpreter": {
   "hash": "408e94bfb20d0025b00d048517fdb93e007f0090bd31aec0718be5df6df166ef"
  },
  "kernelspec": {
   "display_name": "Python 3.9.9 64-bit ('venv': venv)",
   "language": "python",
   "name": "python3"
  },
  "language_info": {
   "codemirror_mode": {
    "name": "ipython",
    "version": 3
   },
   "file_extension": ".py",
   "mimetype": "text/x-python",
   "name": "python",
   "nbconvert_exporter": "python",
   "pygments_lexer": "ipython3",
   "version": "3.9.9"
  },
  "orig_nbformat": 4
 },
 "nbformat": 4,
 "nbformat_minor": 2
}
