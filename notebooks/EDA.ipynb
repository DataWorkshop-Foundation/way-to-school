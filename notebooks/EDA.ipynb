{
 "cells": [
  {
   "cell_type": "code",
   "execution_count": 15,
   "metadata": {},
   "outputs": [],
   "source": [
    "import pandas as pd"
   ]
  },
  {
   "cell_type": "code",
   "execution_count": 19,
   "metadata": {},
   "outputs": [],
   "source": [
    "df = pd.read_csv(\"../../way-to-school-date/school_prep.csv\")"
   ]
  },
  {
   "cell_type": "code",
   "execution_count": 20,
   "metadata": {},
   "outputs": [
    {
     "name": "stdout",
     "output_type": "stream",
     "text": [
      "<class 'pandas.core.frame.DataFrame'>\n",
      "RangeIndex: 55730 entries, 0 to 55729\n",
      "Data columns (total 71 columns):\n",
      " #   Column                           Non-Null Count  Dtype  \n",
      "---  ------                           --------------  -----  \n",
      " 0   numer_rspo                       55730 non-null  int64  \n",
      " 1   regon_podmiotu                   55730 non-null  int64  \n",
      " 2   nip_podmiotu                     28564 non-null  float64\n",
      " 3   typ                              55730 non-null  object \n",
      " 4   nazwa                            55730 non-null  object \n",
      " 5   kod_terytorialny_wojewodztwo     55730 non-null  int64  \n",
      " 6   kod_terytorialny_powiat          55730 non-null  int64  \n",
      " 7   kod_terytorialny_gmina           55730 non-null  int64  \n",
      " 8   kod_terytorialny_miejscowosc     55730 non-null  int64  \n",
      " 9   kod_terytorialny_ulica           46086 non-null  float64\n",
      " 10  wojewodztwo                      55730 non-null  object \n",
      " 11  powiat                           55730 non-null  object \n",
      " 12  gmina                            55730 non-null  object \n",
      " 13  miejscowosc                      55730 non-null  object \n",
      " 14  rodzaj_miejscowosci              55730 non-null  object \n",
      " 15  ulica                            46086 non-null  object \n",
      " 16  numer_budynku                    55730 non-null  object \n",
      " 17  numer_lokalu                     2639 non-null   object \n",
      " 18  kod_pocztowy                     55730 non-null  object \n",
      " 19  poczta                           55730 non-null  object \n",
      " 20  telefon                          53756 non-null  object \n",
      " 21  faks                             24383 non-null  object \n",
      " 22  e-mail                           53094 non-null  object \n",
      " 23  strona_www                       55730 non-null  object \n",
      " 24  publicznosc_status               55730 non-null  object \n",
      " 25  kategoria_uczniow                55730 non-null  object \n",
      " 26  specyfika_placowki               55730 non-null  object \n",
      " 27  imie_i_nazwisko_dyrektora        34878 non-null  object \n",
      " 28  data_zalozenia                   55730 non-null  object \n",
      " 29  data_rozpoczecia_dzialalnosci    55502 non-null  object \n",
      " 30  data_likwidacji                  0 non-null      float64\n",
      " 31  typ_organu_prowadzacego          55730 non-null  object \n",
      " 32  nazwa_organu_prowadzacego        55730 non-null  object \n",
      " 33  regon_organu_prowadzacego        47264 non-null  float64\n",
      " 34  nip_organu_prowadzacego          10630 non-null  float64\n",
      " 35  wojewodztwo_organu_prowadzacego  55727 non-null  object \n",
      " 36  powiat_organu_prowadzacego       55727 non-null  object \n",
      " 37  gmina_organu_prowadzacego        55727 non-null  object \n",
      " 38  miejsce_w_strukturze             55730 non-null  object \n",
      " 39  rspo_podmiotu_nadrzednego        16059 non-null  float64\n",
      " 40  typ_podmiotu_nadrzednego         16059 non-null  object \n",
      " 41  nazwa_podmiotu_nadrzednego       16059 non-null  object \n",
      " 42  liczba_uczniow                   50170 non-null  float64\n",
      " 43  tereny_sportowe                  11387 non-null  object \n",
      " 44  jezyki_nauczane                  37043 non-null  object \n",
      " 45  gmina_typ                        55730 non-null  object \n",
      " 46  gmina_cat                        55730 non-null  object \n",
      " 47  identyfikator_prov               55730 non-null  int64  \n",
      " 48  wojewodztwo_nazwa                55730 non-null  object \n",
      " 49  area_ha_prov                     55730 non-null  int64  \n",
      " 50  area_km_prov                     55730 non-null  int64  \n",
      " 51  population_total_prov            55730 non-null  int64  \n",
      " 52  population_per_1km_prov          55730 non-null  int64  \n",
      " 53  rank_ha_prov                     55730 non-null  int64  \n",
      " 54  rank_population_prov             55730 non-null  int64  \n",
      " 55  identyfikator_dist               55730 non-null  int64  \n",
      " 56  powiaty_nazwa                    55730 non-null  object \n",
      " 57  area_ha_dist                     55730 non-null  int64  \n",
      " 58  area_km_dist                     55730 non-null  int64  \n",
      " 59  population_total_dist            55730 non-null  int64  \n",
      " 60  population_per_1km_dist          55730 non-null  int64  \n",
      " 61  rank_ha_dist                     55730 non-null  int64  \n",
      " 62  rank_population_dist             55730 non-null  int64  \n",
      " 63  identyfikator                    51835 non-null  float64\n",
      " 64  gminy_nazwa                      51835 non-null  object \n",
      " 65  area_ha                          51835 non-null  float64\n",
      " 66  area_km                          51835 non-null  float64\n",
      " 67  population_total                 51835 non-null  float64\n",
      " 68  population_per_1km               51835 non-null  float64\n",
      " 69  rank_ha                          49228 non-null  object \n",
      " 70  rank_population                  49228 non-null  object \n",
      "dtypes: float64(12), int64(20), object(39)\n",
      "memory usage: 30.2+ MB\n"
     ]
    }
   ],
   "source": [
    "df.info()"
   ]
  },
  {
   "cell_type": "code",
   "execution_count": 23,
   "metadata": {},
   "outputs": [
    {
     "data": {
      "text/plain": [
       "1639"
      ]
     },
     "execution_count": 23,
     "metadata": {},
     "output_type": "execute_result"
    }
   ],
   "source": [
    "df[\"gminy_nazwa\"].nunique()"
   ]
  },
  {
   "cell_type": "code",
   "execution_count": 26,
   "metadata": {},
   "outputs": [
    {
     "name": "stdout",
     "output_type": "stream",
     "text": [
      "numer_rspo: 55730\n",
      "regon_podmiotu: 55730\n",
      "nip_podmiotu: 24575\n",
      "typ: 53\n",
      "nazwa: 51158\n",
      "kod_terytorialny_wojewodztwo: 16\n",
      "kod_terytorialny_powiat: 380\n",
      "kod_terytorialny_gmina: 3139\n",
      "kod_terytorialny_miejscowosc: 10108\n",
      "kod_terytorialny_ulica: 7174\n",
      "wojewodztwo: 16\n",
      "powiat: 370\n",
      "gmina: 3084\n",
      "miejscowosc: 8661\n",
      "rodzaj_miejscowosci: 11\n",
      "ulica: 7172\n",
      "numer_budynku: 2223\n",
      "numer_lokalu: 480\n",
      "kod_pocztowy: 8499\n",
      "poczta: 4213\n",
      "telefon: 36066\n",
      "faks: 15890\n",
      "e-mail: 35917\n",
      "strona_www: 26715\n",
      "publicznosc_status: 5\n",
      "kategoria_uczniow: 3\n",
      "specyfika_placowki: 2\n",
      "imie_i_nazwisko_dyrektora: 29805\n",
      "data_zalozenia: 10566\n",
      "data_rozpoczecia_dzialalnosci: 6840\n",
      "data_likwidacji: 0\n",
      "typ_organu_prowadzacego: 28\n",
      "nazwa_organu_prowadzacego: 13967\n",
      "regon_organu_prowadzacego: 7868\n",
      "nip_organu_prowadzacego: 3044\n",
      "wojewodztwo_organu_prowadzacego: 16\n",
      "powiat_organu_prowadzacego: 370\n",
      "gmina_organu_prowadzacego: 2757\n",
      "miejsce_w_strukturze: 7\n",
      "rspo_podmiotu_nadrzednego: 6199\n",
      "typ_podmiotu_nadrzednego: 17\n",
      "nazwa_podmiotu_nadrzednego: 5904\n",
      "liczba_uczniow: 1116\n",
      "tereny_sportowe: 1024\n",
      "jezyki_nauczane: 141\n",
      "gmina_typ: 7\n",
      "gmina_cat: 2270\n",
      "identyfikator_prov: 16\n",
      "wojewodztwo_nazwa: 16\n",
      "area_ha_prov: 16\n",
      "area_km_prov: 16\n",
      "population_total_prov: 16\n",
      "population_per_1km_prov: 16\n",
      "rank_ha_prov: 16\n",
      "rank_population_prov: 16\n",
      "identyfikator_dist: 380\n",
      "powiaty_nazwa: 370\n",
      "area_ha_dist: 378\n",
      "area_km_dist: 319\n",
      "population_total_dist: 379\n",
      "population_per_1km_dist: 214\n",
      "rank_ha_dist: 313\n",
      "rank_population_dist: 313\n",
      "identyfikator: 3100\n",
      "gminy_nazwa: 1639\n",
      "area_ha: 2839\n",
      "area_km: 356\n",
      "population_total: 2761\n",
      "population_per_1km: 906\n",
      "rank_ha: 1733\n",
      "rank_population: 1691\n"
     ]
    }
   ],
   "source": [
    "for col in df.columns:\n",
    "    print(f\"{col}: {df[col].nunique()}\")"
   ]
  },
  {
   "cell_type": "code",
   "execution_count": 29,
   "metadata": {},
   "outputs": [
    {
     "data": {
      "text/plain": [
       "Index(['typ', 'nazwa', 'wojewodztwo', 'powiat', 'gmina', 'miejscowosc',\n",
       "       'rodzaj_miejscowosci', 'ulica', 'numer_budynku', 'numer_lokalu',\n",
       "       'kod_pocztowy', 'poczta', 'telefon', 'faks', 'e-mail', 'strona_www',\n",
       "       'publicznosc_status', 'kategoria_uczniow', 'specyfika_placowki',\n",
       "       'imie_i_nazwisko_dyrektora', 'data_zalozenia',\n",
       "       'data_rozpoczecia_dzialalnosci', 'typ_organu_prowadzacego',\n",
       "       'nazwa_organu_prowadzacego', 'wojewodztwo_organu_prowadzacego',\n",
       "       'powiat_organu_prowadzacego', 'gmina_organu_prowadzacego',\n",
       "       'miejsce_w_strukturze', 'typ_podmiotu_nadrzednego',\n",
       "       'nazwa_podmiotu_nadrzednego', 'tereny_sportowe', 'jezyki_nauczane',\n",
       "       'gmina_typ', 'gmina_cat', 'wojewodztwo_nazwa', 'powiaty_nazwa',\n",
       "       'gminy_nazwa', 'rank_ha', 'rank_population'],\n",
       "      dtype='object')"
      ]
     },
     "execution_count": 29,
     "metadata": {},
     "output_type": "execute_result"
    }
   ],
   "source": [
    "df.select_dtypes(\"object\").columns"
   ]
  },
  {
   "cell_type": "code",
   "execution_count": null,
   "metadata": {},
   "outputs": [],
   "source": []
  }
 ],
 "metadata": {
  "interpreter": {
   "hash": "408e94bfb20d0025b00d048517fdb93e007f0090bd31aec0718be5df6df166ef"
  },
  "kernelspec": {
   "display_name": "Python 3.9.9 64-bit ('venv': venv)",
   "language": "python",
   "name": "python3"
  },
  "language_info": {
   "codemirror_mode": {
    "name": "ipython",
    "version": 3
   },
   "file_extension": ".py",
   "mimetype": "text/x-python",
   "name": "python",
   "nbconvert_exporter": "python",
   "pygments_lexer": "ipython3",
   "version": "3.9.9"
  },
  "orig_nbformat": 4
 },
 "nbformat": 4,
 "nbformat_minor": 2
}
